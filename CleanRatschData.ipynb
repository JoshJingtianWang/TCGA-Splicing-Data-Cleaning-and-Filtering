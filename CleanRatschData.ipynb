{
  "nbformat": 4,
  "nbformat_minor": 0,
  "metadata": {
    "colab": {
      "name": "CleanRatschData.ipynb",
      "provenance": [],
      "collapsed_sections": [],
      "toc_visible": true,
      "authorship_tag": "ABX9TyOdAfH8uZUsIcQqmv5jOf3+",
      "include_colab_link": true
    },
    "kernelspec": {
      "name": "python3",
      "display_name": "Python 3"
    },
    "language_info": {
      "name": "python"
    }
  },
  "cells": [
    {
      "cell_type": "markdown",
      "metadata": {
        "id": "view-in-github",
        "colab_type": "text"
      },
      "source": [
        "<a href=\"https://colab.research.google.com/github/JoshJingtianWang/TCGA-Splicing-Data-Cleaning-and-Filtering/blob/main/CleanRatschData.ipynb\" target=\"_parent\"><img src=\"https://colab.research.google.com/assets/colab-badge.svg\" alt=\"Open In Colab\"/></a>"
      ]
    },
    {
      "cell_type": "markdown",
      "metadata": {
        "id": "z5lJUlMTcL88"
      },
      "source": [
        "# Getting Counts of normal vs cancer data in TCGA"
      ]
    },
    {
      "cell_type": "markdown",
      "metadata": {
        "id": "_1qQqXEdsUsz"
      },
      "source": [
        "# Getting PSI table of just normal samples"
      ]
    },
    {
      "cell_type": "code",
      "metadata": {
        "id": "UQLCebgoBGp5"
      },
      "source": [
        "#Bash\n",
        "#look at first few columns of the raw table\n",
        "#https://stackoverflow.com/questions/538664/using-sed-how-do-you-print-the-first-n-characters-of-a-line\n",
        "head -n 2 merge_graphs_alt_3prime_C2.confirmed.txt | cut -c 1-100"
      ],
      "execution_count": null,
      "outputs": []
    },
    {
      "cell_type": "code",
      "metadata": {
        "id": "63RGzlOBc4Ea"
      },
      "source": [
        "#Python\n",
        "#get number of normal samples and number of cancer samples\n",
        "import pandas as pd\n",
        "import re\n",
        "import os\n",
        "os.getcwd() #get current working directory\n",
        "psi=pd.read_csv('test',sep='\\t')\n",
        "my_list=list(psi) #turn header into a list\n",
        "my_list.sort()\n",
        "del my_list[-6:] #remove elements not TCGA barcodes\n",
        "\n",
        "trimmed_list=[]\n",
        "normcount=0\n",
        "cancount=0\n",
        "for item in my_list:   \n",
        "     s0=re.sub(r'^TCGA-\\w\\w-\\w\\w\\w\\w-|[A-Z]-\\d\\d[A-Z]-\\w{4}-\\d{2}\\..+$', '', item)\n",
        "     s1=int(s0.lstrip('0'))   #remove leading zero in barcode\n",
        "     if s1 < 10:\n",
        "         cancount=cancount+1\n",
        "     else:\n",
        "         normcount=normcount+1\n",
        "     trimmed_list.append(s1)\n"
      ],
      "execution_count": null,
      "outputs": []
    },
    {
      "cell_type": "markdown",
      "metadata": {
        "id": "9-hIEFjqken4"
      },
      "source": [
        "In [67]: normcount\n",
        "Out[67]: 709\n",
        "\n",
        "In [68]: cancount\n",
        "Out[68]: 9310\n"
      ]
    },
    {
      "cell_type": "code",
      "metadata": {
        "id": "8Xj-3_6lvXmR"
      },
      "source": [
        "#get number of patients with matching normal&cancer samples\n",
        "In [14]: normlist=[]\n",
        "    ...: canlist=[]\n",
        "    ...: for item in my_list:   \n",
        "    ...:      samplecode=re.sub(r'^TCGA-|-\\d\\d[A-Z]-\\d\\d[A-Z]-\\w{4}-\\d{2}\\..+$', '', item)\n",
        "    ...:      typecode=re.sub(r'^TCGA-\\w\\w-\\w\\w\\w\\w-|[A-Z]-\\d\\d[A-Z]-\\w{4}-\\d{2}\\..+$', '', item)\n",
        "    ...:      typecode=int(typecode.lstrip('0'))   #remove leading zero in barcode\n",
        "    ...:      if typecode < 10:\n",
        "    ...:          canlist.append(samplecode)\n",
        "    ...:      else:\n",
        "    ...:          normlist.append(samplecode)\n"
      ],
      "execution_count": null,
      "outputs": []
    },
    {
      "cell_type": "markdown",
      "metadata": {
        "id": "czugO3uTvixO"
      },
      "source": [
        "In [15]: len(set(canlist))\n",
        "Out[15]: 9163\n",
        "\n",
        "In [16]: len(set(normlist))\n",
        "Out[16]: 709\n"
      ]
    },
    {
      "cell_type": "code",
      "metadata": {
        "id": "FwbGx3ACysZl"
      },
      "source": [
        "interset=set(normlist) & set(canset)\n",
        "interlist=list(interset)"
      ],
      "execution_count": null,
      "outputs": []
    },
    {
      "cell_type": "markdown",
      "metadata": {
        "id": "ZZDJZ40Ky4oo"
      },
      "source": [
        "In [24]: len(interlist)\n",
        "Out[24]: 659"
      ]
    },
    {
      "cell_type": "markdown",
      "metadata": {
        "id": "fEgm5dfdJjzD"
      },
      "source": [
        "Use list of normal samples to get table of PSI values of all normal samples"
      ]
    },
    {
      "cell_type": "code",
      "metadata": {
        "id": "V3ZwsWaBf2dE"
      },
      "source": [
        "#python\n",
        "normlist=[]\n",
        "\n",
        "for item in my_list:   #number of patients with matching normal&cancer samples\n",
        "    samplecode=re.sub(r'^TCGA-|-\\d\\d[A-Z]-\\d\\d[A-Z]-\\w{4}-\\d{2}\\..+$', '', item)\n",
        "    typecode=re.sub(r'^TCGA-\\w\\w-\\w\\w\\w\\w-|[A-Z]-\\d\\d[A-Z]-\\w{4}-\\d{2}\\..+$', '', item)\n",
        "    typecode=int(typecode.lstrip('0'))   #remove leading zero in barcode\n",
        "    if typecode >= 10 and typecode <20:\n",
        "      normlist.append(item)\n",
        "\n",
        "mystr=','.join(normlist)"
      ],
      "execution_count": null,
      "outputs": []
    },
    {
      "cell_type": "code",
      "metadata": {
        "id": "C3a_i5x_Jwz2"
      },
      "source": [
        "#Bash\n",
        "\n",
        "#using the csvtools to extract just the normal columns from the giant table\n",
        "VAR= #list of normal sample IDs delimited by comma\n",
        "csvcut -t -c $VAR myfile #-t input is tab delimited #-c extract the columns in $VAR"
      ],
      "execution_count": null,
      "outputs": []
    },
    {
      "cell_type": "markdown",
      "metadata": {
        "id": "jEyB1FRisiSL"
      },
      "source": [
        "# Getting mean and quartile of each row"
      ]
    },
    {
      "cell_type": "markdown",
      "metadata": {
        "id": "LtXKvyJq9fwW"
      },
      "source": [
        "Splicing analysis plan:\n",
        "For normal sample PSIs, only keep rows with at least 20 (?) non-'nan' datapoints. 'nan's should not be replaced with zero. After trimming rows. Get mean of each row.\n",
        "Match samples with SF3B1 K700E mutations with normal table first. \n",
        "PSI value of at least 10 times the inter-quartile range above/below the upper/lower quartile and marked them as outliers"
      ]
    },
    {
      "cell_type": "code",
      "metadata": {
        "id": "lei2W1wdejW9"
      },
      "source": [
        "#Bash\n",
        "#request interactive session\n",
        "srun -A jingtiw2 -c 4 --pty /bin/bash -i #-c flag specifies number of cores"
      ],
      "execution_count": null,
      "outputs": []
    },
    {
      "cell_type": "code",
      "metadata": {
        "id": "tt8Udzb_e87B"
      },
      "source": [
        "module load python\n",
        "#In python\n",
        "ipython\n",
        "\n",
        "#read normal table into pandas in chunks and concatenate\n",
        "import pandas as pd\n",
        "import datetime as dt\n",
        "#https://plotly.com/python/v3/ipython-notebooks/big-data-analytics-with-pandas-and-sqlite/\n",
        "#https://stackoverflow.com/questions/11622652/large-persistent-dataframe-in-pandas/12193309#12193309\n",
        "start = dt.datetime.now()\n",
        "chunksize = 20000\n",
        "print('{} seconds: Starting...'.format((dt.datetime.now() - start).seconds))\n",
        "tp = pd.read_csv('normaltablewID.txt', chunksize=chunksize, iterator=True, encoding='utf-8', sep='\\t')\n",
        "normdf=pd.concat(list(tp), ignore_index=True)\n",
        "print('{} seconds: completed'.format((dt.datetime.now() - start).seconds)) #takes about 17 seconds to complete on interactive node (4 cores)\n",
        "\n",
        "#basic dataframe info\n",
        "#https://github.com/ine-rmotr-curriculum/freecodecamp-intro-to-pandas/blob/master/3%20-%20Pandas%20-%20DataFrames.ipynb\n",
        "normdf.head\n",
        "normdf.shape\n",
        "\n",
        "#keep rows with at least 20 non-'nan' datapoints\n",
        "#https://stackoverflow.com/questions/23203638/filter-out-rows-with-more-than-certain-number-of-nan\n",
        "normdf_nafiltered=normdf.dropna(thresh=20) #filtering out rows with more than 20 NaNs\n",
        "normdf_nafiltered.head\n",
        "normdf_nafiltered.shape\n",
        "\n",
        "#get mean of each row\n",
        "#https://www.delftstack.com/api/python-pandas/pandas-dataframe-dataframe.mean-function/\n",
        "normdf_nafiltered['average'] = normdf_nafiltered.mean(numeric_only=True, axis=1,skipna=True) #mean as a new column\n",
        "\n",
        "#compare each tumor with mean of normal\n",
        "\n",
        "#value of at least 10 times the inter-quartile range above/below the upper/lower quartile and marked them as outliers"
      ],
      "execution_count": null,
      "outputs": []
    },
    {
      "cell_type": "markdown",
      "metadata": {
        "id": "QEV0q0KZYfLh"
      },
      "source": [
        "# Find cancer samples with the SF3B1 K700E mutation"
      ]
    },
    {
      "cell_type": "code",
      "metadata": {
        "id": "cest0_LOpej3"
      },
      "source": [
        "#So, turns out the UUIDs in the Ratsch files are aliquot IDs, all UUIDs queried from TCGA in 2019 are ssmIDs and case IDs.\n",
        "#Need to convert the case UUIDs from 2019 to TCGA barcodes using the TCGAUtils package in R\n",
        "#Bash\n",
        "#request interactive session\n",
        "srun -A jingtiw2 -c 4 --pty /bin/bash -i #-c flag specifies number of cores"
      ],
      "execution_count": null,
      "outputs": []
    },
    {
      "cell_type": "code",
      "metadata": {
        "id": "aMeaCZ_nYhb6"
      },
      "source": [
        "#Get list of case UUIDs with K700E mutation from the mutation table queried from TCGA in 2019. \n",
        "#load mut_freq table into pandas\n",
        "#\n",
        "%hist #get history of commands of the current session in ipython\n",
        "import pandas as pd\n",
        "mut=pd.read_csv('mut_freq.tablewPTMfixed',sep='\\t',header=None) #The table has no header\n",
        "mutK700E=mut[(mut.iloc[:,2]=='SF3B1')&(mut.iloc[:,5]=='K700E')] #apply filter for SF3B1 K700E\n",
        "#get IDs \n",
        "K700EID=mutK700E.iloc[0,0] #this is the ssmID for SF3B1 K700E\n",
        "\n",
        "cd /dfs5/bio/jingtiw2/SpitaleLab/PTM/PTM_list/TCGA #change directory\n",
        "IDdf=pd.read_csv('ssm_case_id.txt', sep='\\t',header=None) #read the table containing ssm ID (col0) and corresponding case IDs (col1)\n",
        "caseIDs=IDdf[IDdf.iloc[:,0]==K700EID].iloc[:,1].tolist() #list of case IDs with the K700E mutation\n",
        "\n",
        "cd /dfs5/bio/jingtiw2/SpitaleLab/SplicingTCGA/workingfiles\n",
        "with open('K700EcaseIDs.txt', 'w+') as f: # write caseIDs to file for use in R\n",
        "     for items in caseIDs:\n",
        "         f.write('%s\\n' %items)\n",
        "     print(\"File written successfully\")\n"
      ],
      "execution_count": null,
      "outputs": []
    },
    {
      "cell_type": "code",
      "metadata": {
        "id": "xQ8_1FAy0VHF"
      },
      "source": [
        "#convert the case UUIDs from 2019 to TCGA barcodes using the TCGAUtils package in R\n",
        "module load R\n",
        "R\n",
        "if (!require(\"BiocManager\", quietly = TRUE))\n",
        "    install.packages(\"BiocManager\")\n",
        "BiocManager::install(\"TCGAutils\")\n",
        "library(TCGAutils)\n",
        "library(curatedTCGAData)\n",
        "library(MultiAssayExperiment)\n",
        "library(RTCGAToolbox)\n",
        "library(BiocFileCache)\n",
        "library(rtracklayer)\n",
        "library(R.utils)\n",
        "\n",
        "getwd()\n",
        "dir=\"/dfs5/bio/jingtiw2/SpitaleLab/SplicingTCGA/workingfiles\"\n",
        "setwd(dir)\n",
        "list.files(dir)\n",
        "caseIDs <- read.table(\"K700EcaseIDs.txt\",header=FALSE) #read list of case IDs generated from python\n",
        "caseIDslist <- caseIDs[,1] #turn table into list\n",
        "K700Ebarcodes <- UUIDtoBarcode(caseIDslist, from_type = \"case_id\") #convert case IDs into TCGA barcodes\n",
        "write.table(K700Ebarcodes, file = 'K700Ebarcodes.txt',sep = \"\\t\",quote = FALSE,row.names = F) #write barcodes to file for use in python"
      ],
      "execution_count": null,
      "outputs": []
    },
    {
      "cell_type": "code",
      "metadata": {
        "id": "ImVB5hi_A9Fl"
      },
      "source": [
        "#take Ratsch table header, convert each sample name to just TCGA barcode\n",
        "#(e.g. TCGA-CH-5767-01A-11R-1789-07.07f49527-0833-481f-b172-cb67601f8b03.aligned to just TCGA-CH-5767)\n",
        "\n",
        "cd /dfs5/bio/jingtiw2/SpitaleLab/SplicingTCGA/datafrompaper\n",
        "\n",
        "psi=pd.read_csv('testfolder/temp3prime',sep='\\t')\n",
        "my_list=list(psi) #turn header into a list\n",
        "del my_list[:6] #remove elements not TCGA barcodes\n",
        "\n",
        "import re\n",
        "import os\n",
        "\n",
        "trimmed_list=[]\n",
        "\n",
        "for item in my_list: #trimming TCGA IDs down to just barcodes\n",
        "  if not item.startswith(\"TCGA\"):\n",
        "    trimmed_list.append(item)\n",
        "  else:\n",
        "    s0=re.match(r'^TCGA-\\w\\w-\\w\\w\\w\\w', item)\n",
        "    trimmed_list.append(s0.group(0))\n",
        "\n",
        "with open('trimmedheader.txt', 'w+') as f: # write new trimmed header to file\n",
        "     for items in trimmed_list:\n",
        "         f.write('%s\\t' %items)\n",
        "     print(\"File written successfully\")\n"
      ],
      "execution_count": null,
      "outputs": []
    },
    {
      "cell_type": "code",
      "metadata": {
        "id": "GZmOWIbKaqvY"
      },
      "source": [
        "#Bash\n",
        "#request interactive session\n",
        "srun -A jingtiw2 -c 4 --pty /bin/bash -i #-c flag specifies number of cores\n",
        "#https://www.cyberciti.biz/faq/bash-prepend-text-lines-to-file/ prepend line to a file\n",
        "#and then prepend the converted barcodes to the table\n",
        "\n",
        "#two ways to prepend the trimmed header\n",
        "echo -e \"$(cat trimmedheader.txt)\\n$(cat merge_graphs_alt_3prime_C2.confirmed.txt)\" > testresult\n",
        "#or\n",
        "sed \"1s;^;$(cat trimmedheader.txt)\\n;\" merge_graphs_alt_3prime_C2.confirmed.txt > testresult # Use double quotes to make the shell expand variables while preserving whitespace\n",
        "sed -i \"1s;^;$(cat trimmedheader.txt)\\n;\" merge_graphs_alt_3prime_C2.confirmed.txt #-i flag to edit in place\n",
        "mv merge_graphs_alt_3prime_C2.confirmed.txt threeprimePSItrimmedheader #change file name\n",
        "\n",
        "import pandas as pd\n",
        "IDbarcode=pd.read_csv('K700Ebarcodes.txt',sep='\\t') #read table generated in R\n",
        "K700Ebarcodes=IDbarcode['submitter_id'].tolist() #save barcodes as a list\n",
        "K700Ebarcodes.remove('TCGA-AB-2929') #removing this case from the K700E list since it is not found in the Ratsch data\n",
        "list1=['event_id','event_type','event_chr','event_coordinates','alt_region_coordinates', 'gene_name']\n",
        "K700Ebarcodes=list1+K700Ebarcodes #prepending gene names to the list of barcodes\n",
        "\n",
        "import datetime as dt\n",
        "start = dt.datetime.now()\n",
        "print('{} seconds: Starting...'.format((dt.datetime.now() - start).seconds))\n",
        "PSIK700E = pd.read_csv('threeprimePSItrimmedheader', usecols = K700Ebarcodes, low_memory = True, sep='\\t') #pandas read select columns.\n",
        "print('{} seconds: completed'.format((dt.datetime.now() - start).seconds)) # This will take one to two minutes to complete on the interactive node (4 cores)\n"
      ],
      "execution_count": null,
      "outputs": []
    },
    {
      "cell_type": "markdown",
      "metadata": {
        "id": "pX5BVtOgDYUC"
      },
      "source": [
        "# Create violin plot (ORAI2 only) of Normal TCGA samples vs SF3B1 K700E samples, and Normal TCGA samples vs Cancer TCGA samples"
      ]
    },
    {
      "cell_type": "code",
      "metadata": {
        "id": "doXmq82SEUNb"
      },
      "source": [
        "\n",
        "srun -c 4 --pty --x11 /bin/bash -i # request x forwarding to display plots generated on the terminal\n",
        "\n",
        "ipython\n",
        "\n",
        "PSIK700E.loc[PSIK700E.gene_name.str.contains('^ENSG00000160991')] #looking up ORAI2 in PSIK700E\n",
        "PSIK700E.loc[(PSIK700E['event_id']=='alt_3prime_227154')] #looking up the region of interest in ORAI2 in PSIK700E\n",
        "\n",
        "#remove first few non-PSI values, remove NaNs, convert to list\n",
        "K700EORAI2PSI=PSIK700E.loc[PSIK700E['event_id']=='alt_3prime_227154'].iloc[:,6:].dropna(axis=1).values.flatten().tolist()\n",
        "\n",
        "#read normal PSI table\n",
        "#remove first few non-PSI values, remove NaNs, convert to list\n",
        "NormORAI2PSI=normdf_nafiltered.loc[normdf_nafiltered['event_id']=='alt_3prime_227154'].iloc[:,6:].dropna(axis=1).values.flatten().tolist()\n",
        "\n",
        "#ORAI2 PSI of all CANCER samples\n",
        "#'ORAI2_allheader' has one row of header and one row of ORAI2 PSI\n",
        "#AllPSI=pd.read_csv('ORAI2_all',sep='\\t',header=None)\n",
        "AllPSI=pd.read_csv('ORAI2_allheader',sep='\\t')\n",
        "AllPSI.shape\n",
        "#list of normal IDs\n",
        "norm_list=list(normdf)\n",
        "norm_list\n",
        "AllPSI=AllPSI.drop(norm_list,axis = 1) #dropping normal columns\n",
        "AllPSI.shape\n",
        "AllORAI2PSI=AllPSI.iloc[:,6:].dropna(axis=1).values.flatten().tolist()\n",
        "\n",
        "#https://www.tutorialspoint.com/matplotlib/matplotlib_violin_plot.htm plotting violin plots\n",
        "data_to_plot = [NormORAI2PSI, AllORAI2PSI, K700EORAI2PSI]\n",
        "# Create a figure instance\n",
        "fig = plt.figure()\n",
        "\n",
        "# Create an axes instance\n",
        "#ax = fig.add_axes([0,0,1,1])\n",
        "ax = fig.gca()\n",
        "xticklabels = ['Normal', 'All', 'K700E']\n",
        "ax.set_xticks([1,2,3])\n",
        "ax.set_xticklabels(xticklabels)\n",
        "ax.set_title('ORAI2')\n",
        "ax.set_xlabel('type')\n",
        "ax.set_ylabel('Percent Spliced In')\n",
        "\n",
        "# Create the boxplot\n",
        "bp = ax.violinplot(data_to_plot, showmedians=True)\n",
        "plt.show()\n"
      ],
      "execution_count": null,
      "outputs": []
    },
    {
      "cell_type": "markdown",
      "metadata": {
        "id": "0inclQ2fPyir"
      },
      "source": [
        "![ORAI2PSI.png](data:image/png;base64,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)"
      ]
    },
    {
      "cell_type": "markdown",
      "metadata": {
        "id": "xyyBrRcQffE9"
      },
      "source": [
        "Get PSI values of all SF3B1 mutated samples, not just K700E"
      ]
    },
    {
      "cell_type": "code",
      "metadata": {
        "id": "lyR73L4HfPrN"
      },
      "source": [
        "#get list of SF3B1 (not just K700E) case IDs\n",
        "mut=pd.read_csv('mut_freq.tablewPTMfixed',sep='\\t',header=None) #The table has no header\n",
        "mutSF3B1=mut[(mut.iloc[:,2]=='SF3B1')] #apply filter for SF3B1\n",
        "#get IDs \n",
        "SF3B1ID=mutSF3B1.iloc[:,0].tolist() #this is the ssmID for SF3B1\n",
        "SF3B1ID=list(set(SF3B1ID))\n",
        "\n",
        "os.chdir('/dfs5/bio/jingtiw2/SpitaleLab/PTM/PTM_list/TCGA') #change directory\n",
        "IDdf=pd.read_csv('ssm_case_id.txt', sep='\\t',header=None) #read the table containing ssm ID (col0) and corresponding case IDs (col1)\n",
        "#caseIDs=IDdf[IDdf.iloc[:,0]==SF3B1ID].iloc[:,1].tolist() #list of case IDs with the SF3B1 mutation\n",
        "\n",
        "caseIDs=IDdf[IDdf.iloc[:,0].isin(SF3B1ID)].iloc[:,1]\n",
        "caseIDs=list(set(caseIDs))\n",
        "\n",
        "os.chdir('/dfs5/bio/jingtiw2/SpitaleLab/SplicingTCGA/workingfiles')\n",
        "with open('SF3B1caseIDs.txt', 'w+') as f: # write caseIDs to file for use in R\n",
        "     for items in caseIDs:\n",
        "         f.write('%s\\n' %items)\n",
        "     print(\"File written successfully\")"
      ],
      "execution_count": null,
      "outputs": []
    },
    {
      "cell_type": "markdown",
      "metadata": {
        "id": "IP7IQhTnfm02"
      },
      "source": [
        "Converted the SF3B1 case IDs to TCGA barcodes in R"
      ]
    },
    {
      "cell_type": "code",
      "metadata": {
        "id": "V6OBNYWbfkXZ"
      },
      "source": [
        "IDbarcode=pd.read_csv('SF3B1barcodes.txt',sep='\\t') #read table generated in R\n",
        "SF3B1barcodes=IDbarcode['submitter_id'].tolist() #save barcodes as a list\n",
        "listtoremove=['TCGA-AZ-4615', 'TCGA-B5-A11U', 'TCGA-B5-A11E', 'TCGA-E6-A1LX', 'TCGA-EY-A1GI', \n",
        "                     'TCGA-A5-A0GI', 'TCGA-12-0828', 'TCGA-B5-A11N', 'TCGA-FI-A2D5', 'TCGA-CN-A6V1', \n",
        "                     'TCGA-AA-A00N', 'TCGA-AA-3510', 'TCGA-BG-A222', 'TCGA-AX-A1CE', 'TCGA-AB-2828', \n",
        "                     'TCGA-A5-A0G1', 'TCGA-EE-A3AE', 'TCGA-AA-A010', 'TCGA-BS-A0UF', 'TCGA-AA-3672', \n",
        "                     'TCGA-AP-A1DK', 'TCGA-AP-A0LM', 'TCGA-AP-A0LD', 'TCGA-A5-A0G2', 'TCGA-D1-A103', \n",
        "                     'TCGA-AA-3977', 'TCGA-D1-A15X', 'TCGA-BS-A0UM', 'TCGA-AX-A06F', 'TCGA-EY-A1GD', \n",
        "                     'TCGA-BS-A0UV', 'TCGA-B5-A1MR', 'TCGA-D1-A16X', 'TCGA-AX-A05Z', 'TCGA-AX-A06L', \n",
        "                     'TCGA-AB-2912', 'TCGA-B7-5816', 'TCGA-AP-A051', 'TCGA-A5-A1OF', 'TCGA-AX-A0J1', \n",
        "                     'TCGA-CK-4951', 'TCGA-AA-3967', 'TCGA-D1-A17M', 'TCGA-AX-A2H8', 'TCGA-19-5956', \n",
        "                     'TCGA-B5-A1MX', 'TCGA-EY-A1H0', 'TCGA-AP-A1E0', 'TCGA-EO-A22R', 'TCGA-AP-A1DO', \n",
        "                     'TCGA-14-1821', 'TCGA-14-1794', 'TCGA-BG-A2AE', 'TCGA-BS-A0TC', 'TCGA-AA-3984', \n",
        "              'TCGA-AP-A1DV','TCGA-AB-2929']\n",
        "SF3B1barcodes2=list(set(SF3B1barcodes)-set(listtoremove)) #removing this case from the list since it is not found in the Ratsch data\n",
        "list1=['event_id','event_type','event_chr','event_coordinates','alt_region_coordinates', 'gene_name']\n",
        "SF3B1barcodes3=list1+SF3B1barcodes2 #prepending gene names to the list of barcodes\n",
        "\n",
        "import datetime as dt\n",
        "start = dt.datetime.now()\n",
        "print('{} seconds: Starting...'.format((dt.datetime.now() - start).seconds))\n",
        "PSISF3B1 = pd.read_csv('threeprimePSItrimmedheader', usecols = SF3B1barcodes3, low_memory = True, sep='\\t') #pandas read select columns.\n",
        "print('{} seconds: completed'.format((dt.datetime.now() - start).seconds))"
      ],
      "execution_count": null,
      "outputs": []
    },
    {
      "cell_type": "code",
      "metadata": {
        "id": "5ArQfSCyfp4m"
      },
      "source": [
        "#list of ORAI2 PSI values of SF3B1 mutated samples\n",
        "SF3B1ORAI2PSI=PSISF3B1.loc[PSISF3B1['event_id']=='alt_3prime_227154'].iloc[:,6:].dropna(axis=1).values.flatten().tolist()"
      ],
      "execution_count": null,
      "outputs": []
    },
    {
      "cell_type": "code",
      "metadata": {
        "id": "xIsWqq9Gfstu"
      },
      "source": [
        "#https://www.tutorialspoint.com/matplotlib/matplotlib_violin_plot.htm plotting violin plots\n",
        "data_to_plot = [NormORAI2PSI, AllORAI2PSI, SF3B1ORAI2PSI, K700EORAI2PSI]\n",
        "# Create a figure instance\n",
        "fig = plt.figure()\n",
        "\n",
        "# Create an axes instance\n",
        "#ax = fig.add_axes([0,0,1,1])\n",
        "ax = fig.gca()\n",
        "xticklabels = ['Normal', 'All Cancers', 'SF3B1', 'K700E']\n",
        "ax.set_xticks([1,2,3,4])\n",
        "ax.set_xticklabels(xticklabels)\n",
        "ax.set_title('ORAI2')\n",
        "#ax.set_xlabel('type')\n",
        "ax.set_ylabel('Percent Spliced In')\n",
        "\n",
        "# Create the boxplot\n",
        "bp = ax.violinplot(data_to_plot, showmedians=True)\n",
        "plt.show()"
      ],
      "execution_count": null,
      "outputs": []
    }
  ]
}