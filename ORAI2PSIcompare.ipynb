{
  "nbformat": 4,
  "nbformat_minor": 0,
  "metadata": {
    "colab": {
      "name": "ORAI2PSIcompare.ipynb",
      "provenance": [],
      "collapsed_sections": [],
      "include_colab_link": true
    },
    "kernelspec": {
      "name": "python3",
      "display_name": "Python 3"
    },
    "language_info": {
      "name": "python"
    }
  },
  "cells": [
    {
      "cell_type": "markdown",
      "metadata": {
        "id": "view-in-github",
        "colab_type": "text"
      },
      "source": [
        "<a href=\"https://colab.research.google.com/github/JoshJingtianWang/TCGA-Splicing-Data-Cleaning-and-Filtering/blob/main/ORAI2PSIcompare.ipynb\" target=\"_parent\"><img src=\"https://colab.research.google.com/assets/colab-badge.svg\" alt=\"Open In Colab\"/></a>"
      ]
    },
    {
      "cell_type": "markdown",
      "metadata": {
        "id": "pX5BVtOgDYUC"
      },
      "source": [
        "# Create violin plot (ORAI2 only) of Normal vs Cancer vs SF3B1 vs SF3B1 K700E samples"
      ]
    },
    {
      "cell_type": "code",
      "metadata": {
        "id": "Mp1N1QI25YeW"
      },
      "source": [
        "srun -c 4 --pty --x11 /bin/bash -i #enable x forwarding\n",
        "module load python"
      ],
      "execution_count": null,
      "outputs": []
    },
    {
      "cell_type": "code",
      "metadata": {
        "id": "y_mYwY4T2lxj"
      },
      "source": [
        "import pandas as pd\n",
        "import datetime as dt\n",
        "import os\n",
        "import matplotlib.pyplot as plt\n",
        "os.chdir('/dfs5/bio/jingtiw2/SpitaleLab/SplicingTCGA/workingfiles')"
      ],
      "execution_count": null,
      "outputs": []
    },
    {
      "cell_type": "code",
      "metadata": {
        "id": "AyiG2ZDI02nJ"
      },
      "source": [
        "#get ORAI2 PSI from K700E samples\n",
        "\n",
        "#getting list of K700E TCGA barcodes\n",
        "IDbarcode=pd.read_csv('K700Ebarcodes.txt',sep='\\t') #read table generated in R\n",
        "K700Ebarcodes=IDbarcode['submitter_id'].tolist() #save barcodes as a list\n",
        "K700Ebarcodes.remove('TCGA-AB-2929') #removing this case from the K700E list since it is not found in the Ratsch data\n",
        "list1=['event_id','event_type','event_chr','event_coordinates','alt_region_coordinates', 'gene_name']\n",
        "K700Ebarcodes=list1+K700Ebarcodes #prepending gene names to the list of barcodes\n",
        "\n",
        "#reading in K700E only PSI table\n",
        "start = dt.datetime.now()\n",
        "print('{} seconds: Starting...'.format((dt.datetime.now() - start).seconds))\n",
        "PSIK700E = pd.read_csv('threeprimePSItrimmedheader', usecols = K700Ebarcodes, low_memory = True, sep='\\t') #pandas read select columns.\n",
        "print('{} seconds: completed'.format((dt.datetime.now() - start).seconds)) # This will take one to two minutes to complete on the interactive node (4 cores)\n",
        "\n",
        "#getting list of K700E ORAI2 PSI\n",
        "K700EORAI2PSI=PSIK700E.loc[PSIK700E['event_id']=='alt_3prime_227154'].iloc[:,6:].dropna(axis=1).values.flatten().tolist()"
      ],
      "execution_count": null,
      "outputs": []
    },
    {
      "cell_type": "code",
      "metadata": {
        "id": "bJYlqpCp0ycj"
      },
      "source": [
        "#get ORAI2 PSI from normal samples\n",
        "\n",
        "#reading in normal only PSI table\n",
        "start = dt.datetime.now()\n",
        "chunksize = 20000\n",
        "print('{} seconds: Starting...'.format((dt.datetime.now() - start).seconds))\n",
        "tp = pd.read_csv('normaltablewID.txt', chunksize=chunksize, iterator=True, encoding='utf-8', sep='\\t')\n",
        "normdf=pd.concat(list(tp), ignore_index=True)\n",
        "print('{} seconds: completed'.format((dt.datetime.now() - start).seconds)) #takes about 17 seconds to complete on interactive node (4 cores)\n",
        "\n",
        "#getting list of normal ORAI2 PSI\n",
        "NormORAI2PSI=normdf.loc[normdf['event_id']=='alt_3prime_227154'].iloc[:,6:].dropna(axis=1).values.flatten().tolist()"
      ],
      "execution_count": null,
      "outputs": []
    },
    {
      "cell_type": "code",
      "metadata": {
        "id": "Z448991o0krW"
      },
      "source": [
        "#get ORAI2 PSI from all (except normal) samples\n",
        "\n",
        "#reading in all PSI table (only has ORAI2 row)\n",
        "AllPSI=pd.read_csv('ORAI2_allheader',sep='\\t')\n",
        "AllPSI.shape\n",
        "\n",
        "#getting list of normal IDs\n",
        "norm_list=list(normdf)\n",
        "norm_list\n",
        "\n",
        "#dropping normal columns\n",
        "AllPSI=AllPSI.drop(norm_list,axis = 1)\n",
        "AllPSI.shape\n",
        "\n",
        "#getting list of all (except normal) ORAI2 PSI\n",
        "AllORAI2PSI=AllPSI.iloc[:,6:].dropna(axis=1).values.flatten().tolist()"
      ],
      "execution_count": null,
      "outputs": []
    },
    {
      "cell_type": "code",
      "metadata": {
        "id": "S-pBK5T8ylr6"
      },
      "source": [
        "#get ORAI2 PSI from SF3B1 samples\n",
        "\n",
        "#getting SF3B1 barcodes\n",
        "IDbarcode=pd.read_csv('SF3B1barcodes.txt',sep='\\t') #read table generated in R\n",
        "SF3B1barcodes=IDbarcode['submitter_id'].tolist() #save barcodes as a list\n",
        "listtoremove=['TCGA-AZ-4615', 'TCGA-B5-A11U', 'TCGA-B5-A11E', 'TCGA-E6-A1LX', 'TCGA-EY-A1GI', \n",
        "                     'TCGA-A5-A0GI', 'TCGA-12-0828', 'TCGA-B5-A11N', 'TCGA-FI-A2D5', 'TCGA-CN-A6V1', \n",
        "                     'TCGA-AA-A00N', 'TCGA-AA-3510', 'TCGA-BG-A222', 'TCGA-AX-A1CE', 'TCGA-AB-2828', \n",
        "                     'TCGA-A5-A0G1', 'TCGA-EE-A3AE', 'TCGA-AA-A010', 'TCGA-BS-A0UF', 'TCGA-AA-3672', \n",
        "                     'TCGA-AP-A1DK', 'TCGA-AP-A0LM', 'TCGA-AP-A0LD', 'TCGA-A5-A0G2', 'TCGA-D1-A103', \n",
        "                     'TCGA-AA-3977', 'TCGA-D1-A15X', 'TCGA-BS-A0UM', 'TCGA-AX-A06F', 'TCGA-EY-A1GD', \n",
        "                     'TCGA-BS-A0UV', 'TCGA-B5-A1MR', 'TCGA-D1-A16X', 'TCGA-AX-A05Z', 'TCGA-AX-A06L', \n",
        "                     'TCGA-AB-2912', 'TCGA-B7-5816', 'TCGA-AP-A051', 'TCGA-A5-A1OF', 'TCGA-AX-A0J1', \n",
        "                     'TCGA-CK-4951', 'TCGA-AA-3967', 'TCGA-D1-A17M', 'TCGA-AX-A2H8', 'TCGA-19-5956', \n",
        "                     'TCGA-B5-A1MX', 'TCGA-EY-A1H0', 'TCGA-AP-A1E0', 'TCGA-EO-A22R', 'TCGA-AP-A1DO', \n",
        "                     'TCGA-14-1821', 'TCGA-14-1794', 'TCGA-BG-A2AE', 'TCGA-BS-A0TC', 'TCGA-AA-3984', \n",
        "              'TCGA-AP-A1DV','TCGA-AB-2929']\n",
        "SF3B1barcodes2=list(set(SF3B1barcodes)-set(listtoremove)) #removing this case from the list since it is not found in the Ratsch data\n",
        "list1=['event_id','event_type','event_chr','event_coordinates','alt_region_coordinates', 'gene_name']\n",
        "SF3B1barcodes3=list1+SF3B1barcodes2 #prepending gene names to the list of barcodes\n",
        "\n",
        "#reading in SF3B1 PSI table\n",
        "import datetime as dt\n",
        "start = dt.datetime.now()\n",
        "print('{} seconds: Starting...'.format((dt.datetime.now() - start).seconds))\n",
        "PSISF3B1 = pd.read_csv('threeprimePSItrimmedheader', usecols = SF3B1barcodes3, low_memory = True, sep='\\t') #pandas read select columns.\n",
        "print('{} seconds: completed'.format((dt.datetime.now() - start).seconds))\n",
        "\n",
        "#getting list of SF3B1 ORAI2 PSI\n",
        "SF3B1ORAI2PSI=PSISF3B1.loc[PSISF3B1['event_id']=='alt_3prime_227154'].iloc[:,6:].dropna(axis=1).values.flatten().tolist()"
      ],
      "execution_count": null,
      "outputs": []
    },
    {
      "cell_type": "code",
      "metadata": {
        "id": "xIsWqq9Gfstu"
      },
      "source": [
        "#generating the violin plot\n",
        "\n",
        "#https://www.tutorialspoint.com/matplotlib/matplotlib_violin_plot.htm\n",
        "\n",
        "data_to_plot = [NormORAI2PSI, AllORAI2PSI, SF3B1ORAI2PSI, K700EORAI2PSI]\n",
        "\n",
        "# Create a figure instance\n",
        "fig = plt.figure()\n",
        "\n",
        "# Create an axes instance\n",
        "ax = fig.gca()\n",
        "xticklabels = ['Normal', 'All Cancers', 'SF3B1', 'K700E']\n",
        "ax.set_xticks([1,2,3,4])\n",
        "ax.set_xticklabels(xticklabels)\n",
        "ax.set_title('ORAI2')\n",
        "#ax.set_xlabel('type')\n",
        "ax.set_ylabel('Percent Spliced In')\n",
        "\n",
        "#adding statistical annotations\n",
        "#https://stackoverflow.com/questions/36578458/how-does-one-insert-statistical-annotations-stars-or-p-values-into-matplotlib/37518947\n",
        "\n",
        "# Create the boxplot\n",
        "bp = ax.violinplot(data_to_plot, showmedians=True)\n",
        "plt.show()"
      ],
      "execution_count": null,
      "outputs": []
    },
    {
      "cell_type": "code",
      "metadata": {
        "id": "CWNufUiTtxSK"
      },
      "source": [
        "#concatenate PSI values into a table for ggplot in R\n",
        "\n",
        "Normtable=pd.DataFrame(NormORAI2PSI)\n",
        "Normtable['Type']='Normal'\n",
        "Normtable.columns = ['PSI', 'Type']\n",
        "\n",
        "Alltable=pd.DataFrame(AllORAI2PSI)\n",
        "Alltable['Type']='All'\n",
        "Alltable.columns = ['PSI', 'Type']\n",
        "\n",
        "SF3B1table=pd.DataFrame(SF3B1ORAI2PSI)\n",
        "SF3B1table['Type']='SF3B1'\n",
        "SF3B1table.columns = ['PSI', 'Type']\n",
        "\n",
        "K700Etable=pd.DataFrame(K700EORAI2PSI)\n",
        "K700Etable['Type']='K700E'\n",
        "K700Etable.columns = ['PSI', 'Type']\n",
        "\n",
        "tables=[Normtable,Alltable,SF3B1table,K700Etable]\n",
        "merged = pd.concat(tables)\n",
        "\n",
        "with open('merged_PSI_for_R.csv', 'w') as file:\n",
        "     merged.to_csv(file, sep='\\t')"
      ],
      "execution_count": null,
      "outputs": []
    },
    {
      "cell_type": "code",
      "metadata": {
        "id": "MDs5ZfRV4g9o"
      },
      "source": [
        "#generating violin plot with stats annotations in R\n",
        "\n",
        "module load R\n",
        "R\n",
        "library(ggpubr)\n",
        "\n",
        "PSI <- read.table(\"merged_PSI_for_R.csv\",header=TRUE,sep='\\t')\n",
        "PSI$X <- NULL\n",
        "\n",
        "#adding stats to plot\n",
        "#http://www.sthda.com/english/articles/24-ggpubr-publication-ready-plots/76-add-p-values-and-significance-levels-to-ggplots/\n",
        "compare_means(PSI ~ Type,  data = PSI, method = \"kruskal.test\")\n",
        "my_comparisons <- list( c(\"All\", \"Normal\"), c(\"All\", \"SF3B1\"), c(\"All\", \"K700E\"), c(\"Normal\", \"SF3B1\"),c(\"Normal\", \"K700E\"),c(\"K700E\", \"SF3B1\"))\n",
        "\n",
        "png('ORAI2PSICompare.png', width = 1000, height = 1000, res = 200) #res option affects font size\n",
        "\n",
        "ggboxplot(PSI, x = \"Type\", y = \"PSI\", #to plot violin plot, simply change ggboxplot to ggviolin\n",
        "  color = \"Type\", palette = \"jco\") +\n",
        "  stat_compare_means(label = \"p.signif\", comparisons = my_comparisons) +\n",
        "  stat_compare_means(label.y = 1.7)\n",
        "\n",
        "dev.off()"
      ],
      "execution_count": null,
      "outputs": []
    },
    {
      "cell_type": "markdown",
      "metadata": {
        "id": "SMvYnUL5WO3z"
      },
      "source": [
        "#"
      ]
    }
  ]
}