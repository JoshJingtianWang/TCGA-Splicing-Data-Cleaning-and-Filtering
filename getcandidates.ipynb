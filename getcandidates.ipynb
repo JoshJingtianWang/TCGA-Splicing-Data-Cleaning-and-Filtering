{
  "nbformat": 4,
  "nbformat_minor": 0,
  "metadata": {
    "colab": {
      "name": "getcandidates.ipynb",
      "provenance": [],
      "collapsed_sections": [],
      "toc_visible": true,
      "authorship_tag": "ABX9TyOOdj2SjwVa5C+N+u9svYE7",
      "include_colab_link": true
    },
    "kernelspec": {
      "name": "python3",
      "display_name": "Python 3"
    },
    "language_info": {
      "name": "python"
    }
  },
  "cells": [
    {
      "cell_type": "markdown",
      "metadata": {
        "id": "view-in-github",
        "colab_type": "text"
      },
      "source": [
        "<a href=\"https://colab.research.google.com/github/JoshJingtianWang/TCGA-Splicing-Data-Cleaning-and-Filtering/blob/main/getcandidates.ipynb\" target=\"_parent\"><img src=\"https://colab.research.google.com/assets/colab-badge.svg\" alt=\"Open In Colab\"/></a>"
      ]
    },
    {
      "cell_type": "markdown",
      "metadata": {
        "id": "HaxlCgVry5eC"
      },
      "source": [
        "# Get threshold from ORAI2"
      ]
    },
    {
      "cell_type": "markdown",
      "metadata": {
        "id": "ac7Cvp83zCKr"
      },
      "source": [
        "Simply substract the medians of Normal PSIs and K700E PSIs\n",
        "\n",
        "\n",
        "\n",
        "\n"
      ]
    },
    {
      "cell_type": "code",
      "metadata": {
        "id": "Tw3LFgLn5RqM"
      },
      "source": [
        "srun -c 4 --pty --x11 /bin/bash -i #enable x forwarding\n",
        "\n",
        "import pandas as pd\n",
        "import numpy as np\n",
        "\n",
        "#read in PSI values\n",
        "PSI = pd.read_csv('merged_PSI_for_R.csv', sep='\\t')\n",
        "PSI.loc[PSI['Type']=='Normal','PSI']\n",
        "#turn normal PSI into array (ORAI2 only)\n",
        "normalarray=PSI.loc[PSI['Type']=='Normal','PSI'].values\n",
        "#turn K700E PSI into array (ORAI2 only)\n",
        "K700Earray=PSI.loc[PSI['Type']=='K700E','PSI'].values\n",
        "\n",
        "#get median\n",
        "np.median(normalarray) #1.0\n",
        "np.median(K700Earray) #0.3666665\n",
        "#1.0-0.3666665=0.6333335"
      ],
      "execution_count": null,
      "outputs": []
    },
    {
      "cell_type": "markdown",
      "metadata": {
        "id": "2u12YfOR0t2K"
      },
      "source": [
        "# First Filter: Test for similarity between normal PSIs and 1 (or 0). Filter out genes where normal are not similar enough to 1 (or 0)\n",
        "# Second filter: substract the medians of Normal PSIs and geneA PSIs. Filter out ones that do not meet ORAI2 threshold\n",
        "# Third filter: PSI of gene A of patient x needs to be significantly different from that of normal samples."
      ]
    },
    {
      "cell_type": "code",
      "metadata": {
        "id": "gBFnNw6w4Ki_"
      },
      "source": [
        "#the wilcoxon p of the normal ORAI2 PSI came out as sig dif from 1.0. Cannot use wilcoxon\n",
        "#for now, use \"median of normal PSIs must == 1.0\" as filter\n",
        "\n",
        "#read in normal table. filter out rows with fewer than 20 non-NaN datapoints. get median for each row. filter out rows where median is less than 1.0.\n",
        "\n",
        "\n",
        "import pandas as pd\n",
        "import datetime as dt\n",
        "import re\n",
        "from scipy.stats import wilcoxon\n",
        "\n",
        "#read in normal table\n",
        "start = dt.datetime.now()\n",
        "print('{} seconds: Starting...'.format((dt.datetime.now() - start).seconds))\n",
        "normdf = pd.read_csv('normaltablewID.txt', encoding='utf-8', sep='\\t', header=0)\n",
        "print('{} seconds: completed'.format((dt.datetime.now() - start).seconds)) #takes about 17 seconds to complete on interactive node (4 cores)\n",
        "\n",
        "#keep rows with at least 20 non-'nan' datapoints\n",
        "#https://stackoverflow.com/questions/23203638/filter-out-rows-with-more-than-certain-number-of-nan\n",
        "normdf_nafiltered=normdf.dropna(thresh=20) #filtering out rows with more than 20 NaNs\n",
        "normdf_nafiltered.head\n",
        "normdf_nafiltered.shape\n",
        "\n",
        "#get mean of each row\n",
        "#https://www.delftstack.com/api/python-pandas/pandas-dataframe-dataframe.mean-function/\n",
        "normdf_nafiltered['median'] = normdf_nafiltered.median(numeric_only=True, axis=1,skipna=True) #median as a new column\n",
        "\n",
        "#remove rows where 'median' != 0 or 1\n",
        "normfiltered1=normdf_nafiltered.loc[(normdf_nafiltered['median']==1.0) | (normdf_nafiltered['median']==0.0)]\n",
        "\n"
      ],
      "execution_count": null,
      "outputs": []
    },
    {
      "cell_type": "code",
      "metadata": {
        "id": "eKGRX8FZjAdD"
      },
      "source": [
        "#this writes filtering results to a nested dictionary\n",
        "\n",
        "\n",
        "#get headers\n",
        "patientheaders=pd.read_csv('headers',sep='\\t')\n",
        "patientheader=list(patientheaders)\n",
        "linelength=len(patientheader)\n",
        "finalresult={}\n",
        "patientcount=len(patientheader)-6\n",
        "ORAI2cutoff=0.6333335\n",
        "\n",
        "#start filtering\n",
        "with open(\"threeprimePSItrimmedheader\") as fp:\n",
        "        for line in fp:\n",
        "                line=line.split('\\t') #turn line into list\n",
        "                line=[s.strip() for s in line] ##remove potential newline character https://stackoverflow.com/questions/12533955/string-split-on-new-line-tab-and-some-number-of-spaces\n",
        "                eventID=line[0] #take first item as event id\n",
        "                #print('eventid is ' + eventID)\n",
        "                IDinfo=line[0:6] #this is the ID info of each line\n",
        "                PSIline=line[6:] #this is all the PSIs of each line\n",
        "                IDheader=['event_id','event_type','event_chr','event_coordinates','alt_region_coordinates','gene_name']\n",
        "                finalline=dict(zip(IDheader, IDinfo)) #preparing finalline (a dictionary)\n",
        "                #print(finalline)\n",
        "\n",
        "                if eventID not in normfiltered1['event_id'].tolist(): #pandas data types are strange. safer to convert them to lists or arrays\n",
        "                        print(eventID + 'is NOT in normal table')\n",
        "                        continue #if event ID not found, if means normals don't meet filter (too many NaNs or median not 1 or 0)\n",
        "                else:\n",
        "                        normalPSImedian=normfiltered1.loc[normfiltered1['event_id']==eventID, 'median']\n",
        "                        print('event id is in normal table, normal median is ' + str(normalPSImedian))\n",
        "                        count=0 #counter for generating patient number\n",
        "                        for PSI in PSIline:\n",
        "                                count+=1\n",
        "                                patientnumber='patient'+str(count) #patient number for dictionary\n",
        "                                print(\"working on \" + eventID + ' of ' + patientnumber)\n",
        "                                if not re.match(r'^\\d\\.\\d+', PSI): #check if PSI match the 'digit dot digit digit...' format, if not then it's skipped\n",
        "                                        continue\n",
        "                                else:\n",
        "                                        PSIdiff = float(PSI) - float(normalPSImedian)\n",
        "                                        #must use float() for both https://stackoverflow.com/questions/36921951/truth-value-of-a-series-is-ambiguous-use-a-empty-a-bool-a-item-a-any-o\n",
        "                                        if (PSIdiff < ORAI2cutoff) and (PSIdiff > -ORAI2cutoff):\n",
        "                                                print('did not meet ORAI2 cutoff')\n",
        "                                        else:\n",
        "                                                normalarray=normfiltered1.loc[normfiltered1['event_id']==eventID].iloc[:,6:].dropna(axis=1).values.ravel() #array of normal PSIs. Flatten to 1 dimension with ravel()\n",
        "                                                #https://stackoverflow.com/questions/9057379/correct-and-efficient-way-to-flatten-array-in-numpy-in-python\n",
        "                                                w, p = wilcoxon(normalarray-PSI,zero_method='wilcox')\n",
        "                                                finalline[patientnumber]=p #need to\n",
        "                                                print(str(p)+' met ORAI2 cutoff')\n",
        "\n",
        "                finalresult[eventID] = finalline\n",
        "\n",
        "print('length of dictionary is ' + str(len(finalresult)))\n",
        "\n",
        "print('{} seconds: completed'.format((dt.datetime.now() - start).seconds))\n",
        "\n",
        "#save dictionary to file https://stackoverflow.com/questions/19201290/how-to-save-a-dictionary-to-a-file/32216025\n",
        "import pickle\n",
        "with open('candidatepvalues.pkl', 'wb') as f:\n",
        "    pickle.dump(finalresult, pickle.HIGHEST_PROTOCOL)"
      ],
      "execution_count": null,
      "outputs": []
    },
    {
      "cell_type": "markdown",
      "metadata": {
        "id": "2k2b7aNAiay0"
      },
      "source": [
        "#Processing nested dictionary"
      ]
    },
    {
      "cell_type": "markdown",
      "metadata": {
        "id": "L8ziaWLIigx6"
      },
      "source": [
        "1. get patient-count table (for each patient, how many events do they have)"
      ]
    },
    {
      "cell_type": "code",
      "metadata": {
        "id": "rNhSVjmvB0ng"
      },
      "source": [
        "#process the nested dictionary\n",
        "#mydict={event1:{geneinfo:xxx, patient1:p, patient2:p...}, event2:{geneinfo:xxx, patient1:p, patient2:p...}...}\n",
        "\n",
        "#load dictionary from file\n",
        "import pickle\n",
        "with open('candidatepvalues.pkl', 'rb') as f:\n",
        "  mydict=pickle.load(f)\n",
        "\n",
        "#getting test count for multiple testing correction\n",
        "testcount=0\n",
        "for event in mydict:\n",
        "  testcount=testcount+len(mydict[event])-6\n",
        "#Out: 1362530\n",
        "\n",
        "#multiple testing correction\n",
        "import re\n",
        "for event in mydict:  \n",
        "  for patient in list(mydict[event]): #https://stackoverflow.com/questions/11941817/how-to-avoid-runtimeerror-dictionary-changed-size-during-iteration-error\n",
        "    pvalue=mydict[event][patient]\n",
        "    if re.match(r'^patient\\d+', patient):\n",
        "    #if patient.startswith('patient'):\n",
        "      pvalueadj=pvalue*testcount\n",
        "      if pvalueadj >= 0.001:\n",
        "        mydict[event].pop(patient)\n",
        "\n",
        "#getting test count AFTER multiple testing correction\n",
        "testcount2=0\n",
        "for event in mydict:\n",
        "  testcount2=testcount2+len(mydict[event])-6\n",
        "print(testcount2)\n",
        "#Out: 950823\n",
        "\n",
        "\n",
        "#getting list of patients (including duplicates)  who passed the filters\n",
        "patientlist=[]\n",
        "for event in mydict:\n",
        "  for patient in mydict[event]:\n",
        "    if re.match(r'^patient\\d+', patient):\n",
        "    #if patient.startswith('patient'):\n",
        "      patientlist.append(patient)\n",
        "print(len(patientlist))\n",
        "\n",
        "#list of unique patients who passed the filters\n",
        "patientlistunique=list(set(patientlist))\n",
        "print(len(patientlistunique))\n",
        "#Out 10019\n",
        "\n",
        "#get total unfiltered patient count\n",
        "with open('headers') as f:\n",
        "    patientcount = f.readline().strip() #this reads only first line https://stackoverflow.com/questions/1904394/read-only-the-first-line-of-a-file\n",
        "patientcount=patientcount.split('\\t') #turn line into list\n",
        "patientcount=patientcount[6:] #remove gene info at the start\n",
        "len(patientcount)\n",
        "\n",
        "#dictionary of {patient:count of events that passed filters}\n",
        "patientdict={}\n",
        "for i in patientlist:\n",
        "  patientdict[i] = patientdict.get(i, 0) + 1 #https://stackoverflow.com/questions/3496518/using-a-dictionary-to-count-the-items-in-a-list/6582852#6582852\n",
        "\n",
        "#turn patient dictionary into a dataframe for further processing in R https://stackoverflow.com/questions/18837262/convert-python-dict-into-a-dataframe\n",
        "patientdf=pd.DataFrame(patientdict.items(), columns=['Patient', 'Count'])\n",
        "with open('patientdf_for_R.csv', 'w') as file:\n",
        "     patientdf.to_csv(file, sep='\\t')"
      ],
      "execution_count": null,
      "outputs": []
    },
    {
      "cell_type": "markdown",
      "metadata": {
        "id": "RO4kzDDCin8R"
      },
      "source": [
        "2. get event-count table (for each event, how many patients are inflicted)"
      ]
    },
    {
      "cell_type": "code",
      "metadata": {
        "id": "UW1xPpBmsqSG"
      },
      "source": [
        "#load dictionary from file\n",
        "import pickle\n",
        "with open('candidatepvalues.pkl', 'rb') as f:\n",
        "  mydict=pickle.load(f)\n",
        "\n",
        "eventcount={}\n",
        "for event in mydict:\n",
        "  eventcount[event]=len(mydict[event])-6\n",
        "\n",
        "import pandas as pd\n",
        "eventcount=pd.DataFrame(eventcount.items(), columns=['Event', 'Count'])\n",
        "with open('eventdf_for_R.csv', 'w') as file:\n",
        "     eventcount.to_csv(file, sep='\\t')"
      ],
      "execution_count": null,
      "outputs": []
    },
    {
      "cell_type": "markdown",
      "metadata": {
        "id": "E60yyaiYRZ0e"
      },
      "source": [
        "# Generating figures in R"
      ]
    },
    {
      "cell_type": "code",
      "metadata": {
        "id": "IRBhhW-3Be0k"
      },
      "source": [
        "#make histogram from the patient count \n",
        "srun -c 4 --pty --x11 /bin/bash -i\n",
        "#R\n",
        "module load R\n",
        "R\n",
        "\n",
        "library(ggplot2)\n",
        "patientcount <- read.table(\"patientdf_for_R.csv\",header=TRUE,sep='\\t')\n",
        "head(patientcount)\n",
        "patientcountsorted<-patientcount[order(patientcount$Count),] #sorting by Count\n",
        "\n",
        "# Basic histogram http://www.sthda.com/english/wiki/ggplot2-histogram-plot-quick-start-guide-r-software-and-data-visualization\n",
        "ggplot(patientcountsorted, aes(x=Count)) + geom_histogram()\n",
        "# Change the width of bins\n",
        "ggplot(patientcountsorted, aes(x=Count)) + \n",
        "  geom_histogram(binwidth=1)\n",
        "\n",
        "# Change colors\n",
        "png('patientcount.png', width = 1200, height = 1000, res = 200) #res option affects font size\n",
        "\n",
        "ggplot(patientcountsorted, aes(x=Count)) + \n",
        "  geom_histogram(fill=\"darkred\", binwidth=1) +\n",
        "  xlab(\"Eligible event counts\") + ylab(\"Patient counts\") +\n",
        "  theme_minimal()\n",
        "\n",
        "dev.off()\n",
        "\n",
        "\n"
      ],
      "execution_count": null,
      "outputs": []
    },
    {
      "cell_type": "code",
      "metadata": {
        "id": "kELbyCgByWkE"
      },
      "source": [
        "#make histogram from the event count \n",
        "srun -c 4 --pty --x11 /bin/bash -i\n",
        "#R\n",
        "module load R\n",
        "R\n",
        "\n",
        "library(ggplot2)\n",
        "eventcount <- read.table(\"eventdf_for_R.csv\",header=TRUE,sep='\\t')\n",
        "head(eventcount)\n",
        "nrow(eventcount) #Out: 101608\n",
        "\n",
        "eventcount$X=NULL\n",
        "#remove events with zero count, since most events have zero count, it greatly skews the plot making it unreadable\n",
        "eventcountnozero<-eventcount[eventcount$Count>0,] \n",
        "nrow(eventcountnozero) #Out: 19298\n",
        "\n",
        "eventcountT500<-head(eventcount[order(eventcount$Count,decreasing=TRUE),],500) #sorting by Count, top 500 events\n",
        "\n",
        "\n",
        "# Basic histogram http://www.sthda.com/english/wiki/ggplot2-histogram-plot-quick-start-guide-r-software-and-data-visualization\n",
        "ggplot(eventcountnozero, aes(x=Count)) + geom_histogram()\n",
        "# Change the width of bins\n",
        "ggplot(eventcountnozero, aes(x=Count)) + \n",
        "  geom_histogram(binwidth=1)\n",
        "# Change colors\n",
        "p<-ggplot(eventcountnozero, aes(x=Count)) + \n",
        "  geom_histogram(color=\"black\", fill=\"white\")\n",
        "p\n",
        "\n",
        "\n",
        "#Barplot\n",
        "png('eventcountT100.png', width = 1200, height = 1000, res = 200) #res option affects font size\n",
        "\n",
        "ggplot(data=eventcountT100, aes(x=reorder(Event,-Count), y=Count)) +\n",
        "  geom_bar(stat = \"identity\", fill=\"steelblue\") +\n",
        "  xlab(\"Top 100 Events\") + ylab(\"Number of Patients\") +\n",
        "  theme_minimal() +\n",
        "  scale_y_continuous(breaks=seq(0,5000,1000)) +\n",
        "  scale_color_brewer(palette=\"Dark2\") +\n",
        "  theme(legend.position='none') +\n",
        "  theme(axis.text.x=element_blank(),\n",
        "        axis.ticks.x=element_blank())\n",
        "\n",
        "dev.off()"
      ],
      "execution_count": null,
      "outputs": []
    },
    {
      "cell_type": "markdown",
      "metadata": {
        "id": "ysTdBPVDfYOw"
      },
      "source": [
        "#Make graphs comparing PSIs of cancer v normal for Top events (including ORAI2)"
      ]
    },
    {
      "cell_type": "code",
      "metadata": {
        "id": "xy6wsRHYfZC_"
      },
      "source": [
        "#PRL10, P4HB, CTSB, ORAI2\n"
      ],
      "execution_count": null,
      "outputs": []
    }
  ]
}