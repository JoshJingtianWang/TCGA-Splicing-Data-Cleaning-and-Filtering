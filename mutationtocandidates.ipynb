{
  "nbformat": 4,
  "nbformat_minor": 0,
  "metadata": {
    "colab": {
      "name": "mutationtocandidates.ipynb",
      "provenance": [],
      "collapsed_sections": [],
      "toc_visible": true,
      "authorship_tag": "ABX9TyOBfvl0E2VDexnhMB4/xEir",
      "include_colab_link": true
    },
    "kernelspec": {
      "name": "python3",
      "display_name": "Python 3"
    },
    "language_info": {
      "name": "python"
    }
  },
  "cells": [
    {
      "cell_type": "markdown",
      "metadata": {
        "id": "view-in-github",
        "colab_type": "text"
      },
      "source": [
        "<a href=\"https://colab.research.google.com/github/JoshJingtianWang/TCGA-Splicing-Data-Cleaning-and-Filtering/blob/main/mutationtocandidates.ipynb\" target=\"_parent\"><img src=\"https://colab.research.google.com/assets/colab-badge.svg\" alt=\"Open In Colab\"/></a>"
      ]
    },
    {
      "cell_type": "markdown",
      "metadata": {
        "id": "xEMJD2IP0J0R"
      },
      "source": [
        "#Converting case IDs"
      ]
    },
    {
      "cell_type": "code",
      "metadata": {
        "id": "xWBxwoPM-L_u"
      },
      "source": [
        "#############################################\n",
        "#ABANDON BELOW. NO LONGER USING TCGA MUT DATA\n",
        "#############################################\n",
        "\n",
        "srun -c 4 --pty --x11 /bin/bash -i #enable x forwarding\n",
        "cd /dfs5/bio/jingtiw2/SpitaleLab/SplicingTCGA/mutationworkingfiles\n",
        "\n",
        "\n",
        "#get list of case IDs\n",
        "import pandas as pd\n",
        "ssmdf=pd.read_csv('ssm_case_id.txt', sep='\\t',header=None) #read the table containing ssm ID (col0) and corresponding case IDs (col1)\n",
        "caseIDs=list(set(ssmdf.iloc[:,1].tolist())) #list of UNIQUE case IDs\n",
        "\n",
        "with open('caseIDs.txt', 'w+') as f: # write caseIDs to file for use in R\n",
        "     for items in caseIDs:\n",
        "         f.write('%s\\n' %items)\n",
        "     print(\"File written successfully\")"
      ],
      "execution_count": null,
      "outputs": []
    },
    {
      "cell_type": "code",
      "metadata": {
        "id": "IBWg-9fb6I5p"
      },
      "source": [
        "#############################################\n",
        "#ABANDON BELOW. NO LONGER USING TCGA MUT DATA\n",
        "#############################################\n",
        "\n",
        "#convert the case UUIDs from 2019 to TCGA barcodes using the TCGAUtils package in R\n",
        "#(e.g. TCGA-CH-5767-01A-11R-1789-07.07f49527-0833-481f-b172-cb67601f8b03.aligned to just TCGA-CH-5767)\n",
        "module load R\n",
        "R\n",
        "if (!require(\"BiocManager\", quietly = TRUE))\n",
        "    install.packages(\"BiocManager\")\n",
        "BiocManager::install(\"TCGAutils\")\n",
        "library(TCGAutils)\n",
        "library(curatedTCGAData)\n",
        "library(MultiAssayExperiment)\n",
        "library(RTCGAToolbox)\n",
        "library(BiocFileCache)\n",
        "library(rtracklayer)\n",
        "library(R.utils)\n",
        "\n",
        "getwd()\n",
        "dir=\"/dfs5/bio/jingtiw2/SpitaleLab/SplicingTCGA/workingfiles\"\n",
        "setwd(dir)\n",
        "list.files(dir)\n",
        "caseIDs <- read.table(\"caseIDs.txt\",header=FALSE) #read list of case IDs generated from python\n",
        "caseIDslist <- caseIDs[,1] #turn table into list\n",
        "casebarcodes <- UUIDtoBarcode(caseIDslist, from_type = \"case_id\") #convert case IDs into TCGA barcodes\n",
        "write.table(casebarcodes, file = 'casebarcodes.txt',sep = \"\\t\",quote = FALSE,row.names = F) #write barcodes to file for use in python"
      ],
      "execution_count": null,
      "outputs": []
    },
    {
      "cell_type": "code",
      "metadata": {
        "id": "AHOZ9v3vEWoZ"
      },
      "source": [
        "#convert numbered labels to TCGA barcodes to UUID\n",
        "\n",
        "##################################################################\n",
        "#NO LONGER NEEDED\n",
        "#make the UUID-to-barcode dictionary\n",
        "IDbarcode=pd.read_csv('casebarcodes.txt',sep='\\t') #read table generated in R\n",
        "UUIDtobarcodedict=dict(IDbarcode.values)\n",
        "##################################################################\n",
        "\n",
        "##################################################################\n",
        "#NO LONGER NEEDED\n",
        "#get single line header file containing only the TCGA barcodes\n",
        "with open('headers') as f:\n",
        "    barcodes = f.readline().strip() #this reads only first line https://stackoverflow.com/questions/1904394/read-only-the-first-line-of-a-file  .strip() removes \\t and \\n\n",
        "\n",
        "barcodes=barcodes.split('\\t') #turn line into list\n",
        "barcodes=barcodes[6:] #remove gene info at the start\n",
        "\n",
        "#barcodes=[s.strip() for s in barcodes]\n",
        "\n",
        "#make the barcode-to-label dictionary\n",
        "i=1\n",
        "barcodetolabeldict={}\n",
        "for barcode in barcodes:\n",
        "  label='patient'+str(i)\n",
        "  barcodetolabeldict[barcode]=label\n",
        "  i+=1\n",
        "##################################################################\n",
        "\n",
        "##################################################################\n",
        "#make the label-to-barcode dictionary (keeping only cancer samples)\n",
        "with open('headers') as f:\n",
        "    next(f) #reads second line https://www.reddit.com/r/Python/comments/8i02uo/reading_only_the_second_line_of_a_text_file/\n",
        "    barcodes2 = f.readline().strip().split('\\t')\n",
        "barcodes2=barcodes2[6:]\n",
        "\n",
        "import re\n",
        "i=1\n",
        "labeltobarcodedict={}\n",
        "for barcode in barcodes2:\n",
        "  label='patient'+str(i)\n",
        "  type=re.sub(r'^TCGA-\\w\\w-\\w\\w\\w\\w-|[A-Z]-\\d\\d[A-Z]-\\w{4}-\\d{2}\\..+$', '', barcode)\n",
        "  type=int(type.lstrip('0'))\n",
        "  if type < 10:\n",
        "    trimmedbarcode=re.sub(r'-\\d\\d[A-Z]-\\d\\d[A-Z]-\\w{4}-\\d{2}\\..+$', '', barcode)\n",
        "    labeltobarcodedict[label]=trimmedbarcode\n",
        "  i+=1\n",
        "\n",
        "\n",
        "len(labeltobarcodedict.keys())\n",
        "len(labeltobarcodedict.values())\n",
        "#Out: 9310\n",
        "##################################################################\n"
      ],
      "execution_count": null,
      "outputs": []
    },
    {
      "cell_type": "markdown",
      "metadata": {
        "id": "zeau_RPRyLc6"
      },
      "source": [
        "#Process mutation table from UCSC Xena (GDC-PANCAN.mutect2)"
      ]
    },
    {
      "cell_type": "code",
      "metadata": {
        "id": "pbBIgyPhyQX6"
      },
      "source": [
        "#compare cases from Xena vs cases from Ratsch\n",
        "\n",
        "#get Xena cases\n",
        "import pandas as pd\n",
        "xenadf=pd.read_csv('GDC-PANCAN.mutect2_snv.tsv', sep='\\t')\n",
        "xenacases=xenadf['Sample_ID'].tolist()\n",
        "xenacases=list(set(xenacases))\n",
        "\n",
        "import re\n",
        "xenacasestrimmed=[]\n",
        "for id in xenacases:\n",
        "  trimmedid=re.match(r'^TCGA-\\w\\w-\\w\\w\\w\\w', id)\n",
        "  xenacasestrimmed.append(trimmedid.group(0))\n",
        "\n",
        "len(xenacasestrimmed)\n",
        "#Out:10182\n",
        "\n",
        "#get Ratsch cases\n",
        "with open('headers') as f:\n",
        "    ratschcases = f.readline().strip() #this reads only first line https://stackoverflow.com/questions/1904394/read-only-the-first-line-of-a-file\n",
        "\n",
        "ratschcases=ratschcases.split('\\t') #turn line into list\n",
        "ratschcases=ratschcases[6:] #remove gene info at the start\n",
        "len(ratschcases)\n",
        "#Out: 10019\n",
        "\n",
        "#get manually queried TCGA cases\n",
        "IDbarcode=pd.read_csv('casebarcodes.txt',sep='\\t')\n",
        "TCGAcases=IDbarcode['submitter_id'].tolist()\n",
        "TCGAcases=list(set(TCGAcases))\n",
        "\n",
        "\n",
        "#compare shared cases\n",
        "len(set(xenacasestrimmed).intersection(ratschcases))\n",
        "#Out: 8878\n",
        "len(set(TCGAcases).intersection(ratschcases))\n",
        "#Out: 8633"
      ],
      "execution_count": null,
      "outputs": []
    },
    {
      "cell_type": "markdown",
      "metadata": {
        "id": "27bD1wCh1RMP"
      },
      "source": [
        "Verdict: GDC-PANCAN.mutect2 from UCSC Xena has more data. Therefore use over manually queried TCGA mut data."
      ]
    },
    {
      "cell_type": "code",
      "metadata": {
        "id": "nXNzSB35E-Tk"
      },
      "source": [
        "#PROBABLY USELESS\n",
        "\n",
        "#query the Xena API for mutations per sample\n",
        "#https://gist.github.com/acthp/f9828f57eb795404eddb85006375af8d\n",
        "#https://github.com/ucscXena/xenaPython\n",
        "\n",
        "import xenaPython as xena\n",
        "\n",
        "host = xena.PUBLIC_HUBS['gdcHub']\n",
        "cohort = 'GDC Pan-Cancer (PANCAN)'\n",
        "samples = xena.cohort_samples(host, cohort, None)\n",
        "samples[0: 10]\n",
        "dataset = 'GDC-PANCAN.mutect2_snv.tsv'\n",
        "mutation_columns = xena.sparse_data(host, dataset, samples, xenagenes)\n"
      ],
      "execution_count": null,
      "outputs": []
    },
    {
      "cell_type": "markdown",
      "metadata": {
        "id": "6gAE5V0D6EcZ"
      },
      "source": [
        "#Making Mut-Count tables for R"
      ]
    },
    {
      "cell_type": "markdown",
      "metadata": {
        "id": "we6afQ6GgW2Z"
      },
      "source": [
        "make dict for mutation ranked by #of eligible events it causes in a patient"
      ]
    },
    {
      "cell_type": "code",
      "metadata": {
        "id": "Gxyp33hfzqyW"
      },
      "source": [
        "##################################################################\n",
        "##################################################################\n",
        "\n",
        "#make dict for mutation ranked by #of eligible events it causes in a patient\n",
        "#ssm_case_id.txt\n",
        "\n",
        "\n",
        "#first, reproduce the patient:#of eligible events dictionary\n",
        "#load dictionary from file\n",
        "import pickle\n",
        "with open('candidatepvalues.pkl', 'rb') as f:\n",
        "  mydict=pickle.load(f)\n",
        "\n",
        "#getting test count for multiple testing correction\n",
        "testcount=0\n",
        "for event in mydict:\n",
        "  testcount=testcount+len(mydict[event])-6\n",
        "\n",
        "#multiple testing correction\n",
        "import re\n",
        "for event in mydict:  \n",
        "  for patient in list(mydict[event]): #https://stackoverflow.com/questions/11941817/how-to-avoid-runtimeerror-dictionary-changed-size-during-iteration-error\n",
        "    pvalue=mydict[event][patient]\n",
        "    if re.match(r'^patient\\d+', patient):\n",
        "    #if patient.startswith('patient'):\n",
        "      pvalueadj=pvalue*testcount\n",
        "      if pvalueadj >= 0.001:\n",
        "        mydict[event].pop(patient)\n",
        "\n",
        "#getting list of patients (including duplicates)  who passed the filters\n",
        "patientlist=[]\n",
        "for event in mydict:\n",
        "  for patient in mydict[event]:\n",
        "    if re.match(r'^patient\\d+', patient):\n",
        "    #if patient.startswith('patient'):\n",
        "      patientlist.append(patient)\n",
        "print(len(patientlist))\n",
        "\n",
        "#dictionary of {patient:count of events that passed filters}\n",
        "patientdict={}\n",
        "for i in patientlist:\n",
        "  patientdict[i] = patientdict.get(i, 0) + 1 #https://stackoverflow.com/questions/3496518/using-a-dictionary-to-count-the-items-in-a-list/6582852#6582852\n",
        "\n",
        "\n",
        "\n",
        "\n",
        "#############################################\n",
        "#ABANDON BELOW. NO LONGER USING TCGA MUT DATA\n",
        "#############################################\n",
        "\n",
        "#get unique list of ssm IDs\n",
        "cd /dfs5/bio/jingtiw2/SpitaleLab/PTM/PTM_list/TCGA #change directory\n",
        "IDdf=pd.read_csv('ssm_case_id.txt', sep='\\t',header=None) #read the table containing ssm ID (col0) and corresponding case IDs (col1)\n",
        "ssmIDs=list(set(IDdf.iloc[:,0].tolist())) #list of UNIQUE ssm IDs\n",
        "\n",
        "#turn the unique ssm ID into dictionary with key:empty list\n",
        "eventmutdict1={}\n",
        "for ssmID in ssmIDs:\n",
        "  eventmutdict1[ssmID]=[]\n",
        "\n",
        "#appending event count of each patient to the dictionary\n",
        "with open(\"ssm_case_id.txt\") as fp:\n",
        "  for line in fp:\n",
        "    line=line.split('\\t') #turn line into list\n",
        "    line=[s.strip() for s in line] ##remove potential newline character https://stackoverflow.com/questions/12533955/string-split-on-new-line-tab-and-some-number-of-spaces\n",
        "    ssmID=line[0]\n",
        "    caseUUID=line[1]\n",
        "    casebarcode=UUIDtobarcodedict[caseUUID]\n",
        "    try:        #try/except in case case ID not found in petientdict?\n",
        "      caselabel=barcodetolabeldict[casebarcode]\n",
        "    except:\n",
        "      continue\n",
        "    eventmutdict1[ssmID].append(patientdict[caselabel])\n",
        "\n",
        "#make a copy to be used later for the other graph\n",
        "import copy\n",
        "eventmutdict2 = copy.deepcopy(eventmutdict1) #https://stackoverflow.com/a/2465951\n",
        "\n",
        "#remove from eventmutdict1 where value len == 0\n",
        "for event in list(eventmutdict1):\n",
        "  if len(eventmutdict1[event])==0:\n",
        "    eventmutdict1.pop(event)\n",
        "\n",
        "#get average # of events a mutation causes in a patient\n",
        "for ssmID in eventmutdict1:\n",
        "  eventcountlist=eventmutdict1[ssmID]\n",
        "  eventmutdict1[ssmID]=sum(eventcountlist) / len(eventcountlist)\n",
        "\n",
        "#turn dictionary into a dataframe for further processing in R https://stackoverflow.com/questions/18837262/convert-python-dict-into-a-dataframe\n",
        "eventcount1df=pd.DataFrame(eventmutdict1.items(), columns=['Mutation', 'AverageEventCount'])\n",
        "with open('eventcountdf_for_R.csv', 'w') as file:\n",
        "     eventcount1df.to_csv(file, sep='\\t')\n"
      ],
      "execution_count": null,
      "outputs": []
    },
    {
      "cell_type": "markdown",
      "metadata": {
        "id": "zIg1OgjygZwG"
      },
      "source": [
        "stacked barplot of patient event count + mutation count\n"
      ]
    },
    {
      "cell_type": "code",
      "metadata": {
        "id": "wvHsY2hPcgZA"
      },
      "source": [
        "##################################################################\n",
        "##################################################################\n",
        "#stacked barplot of patient event count + mutation count\n",
        "\n",
        "#list of unique patients who passed the filters\n",
        "patientlistunique=list(set(patientlist))\n",
        "print(len(patientlistunique))\n",
        "#Out 10019\n",
        "\n",
        "#get total unfiltered patient count\n",
        "with open('headers') as f:\n",
        "    ratschcases = f.readline().strip() #this reads only first line https://stackoverflow.com/questions/1904394/read-only-the-first-line-of-a-file\n",
        "ratschcases=ratschcases.split('\\t') #turn line into list\n",
        "ratschcases=ratschcases[6:] #remove gene info at the start\n",
        "len(ratschcases)\n",
        "#Out:10019\n",
        "\n",
        "#dictionary of {patient:count of events that passed filters}\n",
        "patientdict={} \n",
        "for i in patientlist:\n",
        "  patientdict[i] = patientdict.get(i, 0) + 1 #https://stackoverflow.com/questions/3496518/using-a-dictionary-to-count-the-items-in-a-list/6582852#6582852\n",
        "\n",
        "#because some \"patients\" are actually replicates of one patient, need to condense those replicates by averaging the event counts\n",
        "patientdict2={}\n",
        "for barcode in labeltobarcodedict.values(): #build dict of lists\n",
        "  patientdict2[barcode]=[]\n",
        "for label in patientdict: #append event counts to each key\n",
        "  try: #try/except block because some labels in patientdict are not found in patientdict2\n",
        "    barcode=labeltobarcodedict[label]\n",
        "  except:\n",
        "    continue\n",
        "  patientdict2[barcode].append(patientdict[label])\n",
        "for barcode in patientdict2: #taking average\n",
        "  eventcounts=patientdict2[barcode]\n",
        "  patientdict2[barcode]=sum(eventcounts) / len(eventcounts)\n",
        "\n",
        "\n",
        "####################################\n",
        "#get patient mutation count from queried TCGA data (ABANDONED)\n",
        "patientmutcountdict={}\n",
        "with open(\"ssm_case_id.txt\") as fp:\n",
        "  for line in fp:\n",
        "    line=line.split('\\t') #turn line into list\n",
        "    line=[s.strip() for s in line] ##remove potential newline character https://stackoverflow.com/questions/12533955/string-split-on-new-line-tab-and-some-number-of-spaces\n",
        "    ssmID=line[0]\n",
        "    caseUUID=line[1]\n",
        "    casebarcode=UUIDtobarcodedict[caseUUID]\n",
        "    try:        #try/except in case case ID not found in petientdict?\n",
        "      caselabel=barcodetolabeldict[casebarcode]\n",
        "    except:\n",
        "      continue\n",
        "    patientmutcountdict[caselabel] = patientmutcountdict.get(caselabel, 0) + 1\n",
        "####################################\n",
        "\n",
        "####################################\n",
        "#get patient mutation count using UCSC Xena GDC-PANCAN.mutect2 data, using this instead\n",
        "xenadf=pd.read_csv('GDC-PANCAN.mutect2_snv.tsv', sep='\\t')\n",
        "xenacases=xenadf['Sample_ID'].tolist()\n",
        "patientmutcountdict2={}\n",
        "for i in xenacases:\n",
        "  match=re.match(r'^TCGA-\\w\\w-\\w\\w\\w\\w-\\w\\w\\w', i)\n",
        "  trimmedid=match.group(0)\n",
        "  patientmutcountdict2[trimmedid] = patientmutcountdict2.get(trimmedid, 0) + 1 #getting patient mutation count from Xena data\n",
        "\n",
        "#turning patient mutation count into a pandas df\n",
        "xenamutcountdf=pd.DataFrame(patientmutcountdict2.items(), columns=['Patient', 'MutCount'])\n",
        "####################################\n",
        "\n",
        "\n",
        "#convert dict into pandas dataframe\n",
        "#patientmutdf=pd.DataFrame(patientmutcountdict.items(), columns=['Patient', 'MutCount']) #https://stackoverflow.com/questions/18837262/convert-python-dict-into-a-dataframe\n",
        "patienteventdf=pd.DataFrame(patientdict2.items(), columns=['Patient', 'EventCount'])\n",
        "\n",
        "#use pandas merge to join the two dataframes https://pandas.pydata.org/pandas-docs/stable/user_guide/merging.html\n",
        "patienteventmutdf = pd.merge(patienteventdf, xenamutcountdf, how=\"outer\", on=['Patient'])\n",
        "\n",
        "patienteventmutdf=patienteventmutdf.dropna()\n",
        "\n",
        "#writing table to file\n",
        "with open('eventmutcount_for_R.csv', 'w') as file:\n",
        "     patienteventmutdf.to_csv(file, sep='\\t')\n",
        "\n",
        "\n",
        "\n",
        "####################################\n",
        "\n",
        "#stacked barplot of patient event count + spliceosome mutation count\n",
        "#get list of spliceosome gene names...\n",
        "\n",
        "\n",
        "\n",
        "#stacked barplot of patient event count + spliceosome mutation count"
      ],
      "execution_count": null,
      "outputs": []
    },
    {
      "cell_type": "markdown",
      "metadata": {
        "id": "0N6-d71UWfWu"
      },
      "source": [
        "\n",
        "# Generate plot in R"
      ]
    },
    {
      "cell_type": "code",
      "metadata": {
        "id": "j7AH06nDq_DY"
      },
      "source": [
        "#scatter plot of mut count vs event count\n",
        "srun -c 4 --pty --x11 /bin/bash -i\n",
        "#R\n",
        "module load R\n",
        "R\n",
        "\n",
        "library(ggplot2)\n",
        "eventmutcount <- read.table(\"eventmutcount_for_R.csv\",header=TRUE,sep='\\t')\n",
        "head(eventmutcount)\n",
        "# Basic scatter plot\n",
        "ggplot(eventmutcount, aes(x=MutCount, y=EventCount)) + geom_point()"
      ],
      "execution_count": null,
      "outputs": []
    },
    {
      "cell_type": "markdown",
      "metadata": {
        "id": "9QYEBsTm3s28"
      },
      "source": [
        "#Making Spliceosome-only mutation count table for R"
      ]
    },
    {
      "cell_type": "code",
      "metadata": {
        "id": "cNAsDroGxoQP"
      },
      "source": [
        "#spliceosome\n",
        "#spliceosome protein list downloaded from http://spliceosomedb.ucsc.edu/\n",
        "import pandas as pd\n",
        "spliceosomedf=pd.read_csv('spliceosomeprotein.csv', sep=',')\n",
        "spliceosomelist=spliceosomedf['Gene Symbol'].tolist()\n",
        "\n",
        "#subset xena mutation data with spliceosome protein list\n",
        "#https://stackoverflow.com/questions/17071871/how-do-i-select-rows-from-a-dataframe-based-on-column-values\n",
        "xenadf=pd.read_csv('GDC-PANCAN.mutect2_snv.tsv', sep='\\t')\n",
        "xenasplicedf=xenadf.loc[xenadf['gene'].isin(spliceosomelist)]\n",
        "xenasplicecases=xenasplicedf['Sample_ID'].tolist()\n",
        "\n",
        "#get spliceosome mutation data\n",
        "import re\n",
        "patientmutcountdict3={}\n",
        "for i in xenasplicecases:\n",
        "  match=re.match(r'^TCGA-\\w\\w-\\w\\w\\w\\w-\\w\\w\\w', i)\n",
        "  trimmedid=match.group(0)\n",
        "  patientmutcountdict3[trimmedid] = patientmutcountdict3.get(trimmedid, 0) + 1 #getting patient mutation count from Xena data\n",
        "xenasplicemutcountdf=pd.DataFrame(patientmutcountdict3.items(), columns=['Patient', 'MutCount'])\n",
        "\n",
        "\n",
        "#use pandas merge to join the two dataframes https://pandas.pydata.org/pandas-docs/stable/user_guide/merging.html\n",
        "patienteventsplicemutdf = pd.merge(patienteventdf, xenasplicemutcountdf, how=\"outer\", on=['Patient'])\n",
        "patienteventsplicemutdf=patienteventsplicemutdf.dropna()\n",
        "\n",
        "#writing table to file\n",
        "with open('eventsplicemutcount_for_R.csv', 'w') as file:\n",
        "     patienteventsplicemutdf.to_csv(file, sep='\\t')"
      ],
      "execution_count": null,
      "outputs": []
    },
    {
      "cell_type": "code",
      "metadata": {
        "id": "cRQNyCdgI-7a"
      },
      "source": [
        "#U2, U5 complexes\n",
        "U2df=pd.read_csv('U2splice.csv', sep=',')\n",
        "U2list=U2df['Gene Symbol'].tolist()\n",
        "U5df=pd.read_csv('U5splice.csv', sep=',')\n",
        "U5list=U5df['Gene Symbol'].tolist()\n",
        "U2U5list=U2list+U5list\n",
        "\n",
        "\n",
        "#subset xena mutation data with spliceosome protein list\n",
        "#https://stackoverflow.com/questions/17071871/how-do-i-select-rows-from-a-dataframe-based-on-column-values\n",
        "xenadf=pd.read_csv('GDC-PANCAN.mutect2_snv.tsv', sep='\\t')\n",
        "xenaU2U5df=xenadf.loc[xenadf['gene'].isin(U2U5list)]\n",
        "xenaU2U5cases=xenaU2U5df['Sample_ID'].tolist()\n",
        "\n",
        "import re\n",
        "patientmutcountdict3={}\n",
        "for i in xenaU2U5cases:\n",
        "  match=re.match(r'^TCGA-\\w\\w-\\w\\w\\w\\w-\\w\\w\\w', i)\n",
        "  trimmedid=match.group(0)\n",
        "  patientmutcountdict3[trimmedid] = patientmutcountdict3.get(trimmedid, 0) + 1 #getting patient mutation count from Xena data\n",
        "xenaU2U5mutcountdf=pd.DataFrame(patientmutcountdict3.items(), columns=['Patient', 'MutCount'])\n"
      ],
      "execution_count": null,
      "outputs": []
    },
    {
      "cell_type": "markdown",
      "metadata": {
        "id": "PL1mRJtr2i8W"
      },
      "source": [
        "# Generate plot in R"
      ]
    },
    {
      "cell_type": "code",
      "metadata": {
        "id": "YH3LgmL72io7"
      },
      "source": [
        "#scatter plot of mut count vs event count\n",
        "srun -c 4 --pty --x11 /bin/bash -i\n",
        "#R\n",
        "module load R\n",
        "R\n",
        "\n",
        "library(ggplot2)\n",
        "eventsplicemutcount <- read.table(\"eventsplicemutcount_for_R.csv\",header=TRUE,sep='\\t')\n",
        "head(eventsplicemutcount)\n",
        "\n",
        "png('spliceosomemutvevent.png', width = 1200, height = 1000, res = 200)\n",
        "# Basic scatter plot\n",
        "ggplot(eventsplicemutcount, aes(x=MutCount, y=EventCount)) + geom_point()\n",
        "dev.off()"
      ],
      "execution_count": null,
      "outputs": []
    },
    {
      "cell_type": "markdown",
      "metadata": {
        "id": "qYYIUmq939pv"
      },
      "source": [
        "#Verifying event counts\n",
        "\n",
        "\n"
      ]
    },
    {
      "cell_type": "code",
      "metadata": {
        "id": "C1CSlhfu39LO"
      },
      "source": [
        "srun -c 4 --pty --x11 /bin/bash -i\n",
        "\n",
        "import pandas as pd\n",
        "\n",
        "patienteventdf.sort_values(by='EventCount', ascending=False)\n",
        "eventcountsorted = patienteventdf.sort_values(by='EventCount')\n",
        "\n",
        "               Patient  EventCount\n",
        "8444  TCGA-20-1683-01A       256.0\n",
        "376   TCGA-55-7576-01A       245.0\n",
        "4630  TCGA-29-1697-01A       244.0\n",
        "5065  TCGA-24-2261-01A       237.0\n",
        "7039  TCGA-24-1603-01A       231.0\n",
        "8697  TCGA-BP-4974-01A       229.0\n",
        "...                ...         ...\n",
        "3970  TCGA-BK-A0CC-01B         8.0\n",
        "7485  TCGA-BK-A139-01C         8.0\n",
        "3968  TCGA-44-2665-01B         7.0\n",
        "2719  TCGA-OR-A5L9-01A         5.0\n",
        "3622  TCGA-06-0168-01A         4.0\n",
        "\n",
        "patientlist=eventcountsorted['Patient'].tolist()\n",
        "mylist=patientlist[:5]+patientlist[-1:]\n",
        "\n",
        "mylist=['event_id',\n",
        "  'TCGA-20-1683',\n",
        "  'TCGA-06-0168']\n",
        "\n",
        "\n",
        "verifydf = pd.read_csv('/dfs5/bio/jingtiw2/SpitaleLab/SplicingTCGA/candidateworkingfiles/threeprimePSItrimmedheader', usecols = mylist, low_memory = True, sep='\\t')\n",
        "verifydf=verifydf.drop(verifydf.index[0]) #drop first row\n",
        "\n",
        "verifydf=verifydf.set_index('event_id')\n",
        "\n",
        "with open('verifydf.csv', 'w') as file:\n",
        "    #changing NaN to NULL since to_csv writes NaN as empty\n",
        "     verifydf.to_csv(file, sep='\\t', na_rep='NULL') #https://stackoverflow.com/questions/50890989/pandas-changing-the-format-of-nan-values-when-saving-to-csv\n",
        "\n",
        "#then, run verifydf.csv through the getcandidates.py pipeline\n",
        "#Out: {'patient2': 256, 'patient1': 4}\n",
        "#Results confirmed to be correct\\"
      ],
      "execution_count": null,
      "outputs": []
    },
    {
      "cell_type": "markdown",
      "metadata": {
        "id": "B05Ne1vdrdrp"
      },
      "source": [
        "#rank mutated (Xena) genes by count of events they cause"
      ]
    },
    {
      "cell_type": "code",
      "metadata": {
        "id": "OZ3oae9qrhdj"
      },
      "source": [
        "#get table of mut-patient (Xena)\n",
        "#mutdict={mut:[patient1, patient2...], mut2:[]}\n",
        "import pandas as pd\n",
        "xenadf=pd.read_csv('GDC-PANCAN.mutect2_snv.tsv', sep='\\t')\n",
        "#xenadf['mutlabel'] = xenadf.index #turn index into column\n",
        "#xenadf['mutlabel'] = 'mut' + df['mutlabel'].astype(str) #prepend 'mut' to column\n",
        "xenadf=xenadf[['Sample_ID','gene']].drop_duplicates(subset=['Sample_ID', 'gene'], keep='last') #subset two columns, remove duplicates\n",
        "xenadf.rename({'Sample_ID': 'Patient'}, axis=1,inplace=True) #rename column\n",
        "\n",
        "#get table of patient-event count\n",
        "#eventcount={patient:count,patient2:count2}\n",
        "patienteventdf\n",
        "\n",
        "\n",
        "####################################\n",
        "#join two tables\n",
        "#use pandas merge to join the two dataframes https://pandas.pydata.org/pandas-docs/stable/user_guide/merging.html\n",
        "merged = pd.merge(patienteventdf, xenadf, how=\"inner\", on=['Patient'])\n",
        "#group dataframe by mutation and get average of event counts\n",
        "#https://pandas.pydata.org/docs/reference/api/pandas.core.groupby.GroupBy.mean.html\n",
        "generank=merged.groupby('gene')['EventCount'].mean()\n",
        "\n",
        "with open('mutgenesvsevemt_for_R.csv', 'w') as file:\n",
        "     generank.to_csv(file, sep='\\t')\n",
        "\n",
        "####################################\n",
        "#label spliceosome genes in the table\n",
        "#https://stackoverflow.com/questions/17071871/how-do-i-select-rows-from-a-dataframe-based-on-column-values\n",
        "generankdf=pd.read_csv('mutgenesvsevemt_for_R.csv', sep='\\t')\n",
        "\n",
        "generankdf_sorted = generankdf.sort_values(by=['EventCount'], ascending=False) #sort\n",
        "\n",
        "\n",
        "#list of gene names form HGNC\n",
        "genenames=pd.read_csv('genenames.txt', sep='\\t')\n",
        "geneseries=genenames[genenames[\"Locus type\"]==\"gene with protein product\"].loc[:,'Approved symbol'] #get only protein-coding genes, then get only gene symbols\n",
        "genelistdf=pd.DataFrame({'index':geneseries.index, 'gene':geneseries.values})\n",
        "merged = pd.merge(generankdf_sorted, genelistdf, how=\"inner\", on=['gene'])\n",
        "\n",
        "generankB100=merged.iloc[-100:].loc[:,'gene'] #select bottom 50 genes\n",
        "generankT100=merged.iloc[:100].loc[:,'gene'] #select top 50 genes\n",
        "generankbg=merged.sample(200).loc[:,'gene'].tolist() #random selection\n",
        "\n",
        "#after inputting genelists into http://geneontology.org/, no sig results were found\n",
        "\n",
        "\n",
        "spliceosomedf=pd.read_csv('spliceosomeprotein.csv', sep=',')\n",
        "spliceosomelist=spliceosomedf['Gene Symbol'].tolist()\n",
        "\n",
        "U2df=pd.read_csv('U2splice.csv', sep=',')\n",
        "U2list=U2df['Gene Symbol'].tolist()\n",
        "U5df=pd.read_csv('U5splice.csv', sep=',')\n",
        "U5list=U5df['Gene Symbol'].tolist()\n",
        "U2U5list=U2list+U5list\n",
        "\n",
        "generanksplice=generankdf.loc[generankdf['gene'].isin(spliceosomelist)] #isin list\n",
        "generanknotsplice=generankdf.loc[~generankdf['gene'].isin(spliceosomelist)] #is not in list\n",
        "generanksplice[\"EventCount\"].mean()\n",
        "generanknotsplice[\"EventCount\"].mean()\n",
        "\n",
        "generanksU2U5=generankdf.loc[generankdf['gene'].isin(U2U5list)] #isin list\n",
        "generanknotU2U5=generankdf.loc[~generankdf['gene'].isin(U2U5list)] #is not in list\n",
        "U2U5array=generanksU2U5['EventCount'].values\n",
        "notU2U5array=generanknotU2U5['EventCount'].values\n",
        "\n",
        "from scipy.stats import ttest_ind\n",
        "t, p = ttest_ind(U2U5array, notU2U5array, equal_var=False)\n",
        "#In [12]: t\n",
        "#Out[12]: 1.1652359773740997\n",
        "#In [13]: p\n",
        "#Out[13]: 0.2537011305849394\n"
      ],
      "execution_count": null,
      "outputs": []
    },
    {
      "cell_type": "markdown",
      "metadata": {
        "id": "hh1PNcafXG6C"
      },
      "source": [
        "Generate plot in R"
      ]
    },
    {
      "cell_type": "code",
      "metadata": {
        "id": "8ZBn4lRBXGp5"
      },
      "source": [
        "#scatter plot of mut count vs event count\n",
        "srun -c 4 --pty --x11 /bin/bash -i\n",
        "#R\n",
        "module load R\n",
        "R\n",
        "\n",
        "mutgenevsevent <- read.table(\"mutgenesvsevemt_for_R.csv\",header=TRUE,sep='\\t')\n",
        "head(mutgenevsevent)\n",
        "\n",
        "eventcountT500<-head(mutgenevsevent[order(eventcount$Count,decreasing=TRUE),],500) #sorting by Count, top 500 events\n",
        "\n",
        "\n",
        "# Basic histogram http://www.sthda.com/english/wiki/ggplot2-histogram-plot-quick-start-guide-r-software-and-data-visualization\n",
        "ggplot(eventcountnozero, aes(x=Count)) + geom_histogram()\n",
        "# Change the width of bins\n",
        "ggplot(eventcountnozero, aes(x=Count)) + \n",
        "  geom_histogram(binwidth=1)\n",
        "# Change colors\n",
        "p<-ggplot(eventcountnozero, aes(x=Count)) + \n",
        "  geom_histogram(color=\"black\", fill=\"white\")\n",
        "p\n"
      ],
      "execution_count": null,
      "outputs": []
    },
    {
      "cell_type": "markdown",
      "metadata": {
        "id": "fYdTIvW6HFM_"
      },
      "source": [
        "#rank mutation IDs (TCGA) by count of events they cause (TCGA mutations that I have may only contain RBP mutations)"
      ]
    },
    {
      "cell_type": "code",
      "metadata": {
        "id": "934XCTPAHI8E"
      },
      "source": [
        "####################################\n",
        "#get patient mutation count from queried TCGA data\n",
        "#generate table that is: ssmid  casebarcode\n",
        "ssm_case_iddf=pd.read_csv('ssm_case_id.txt', sep='\\t', header=None)\n",
        "ssm_case_iddf.columns = [\"ssm_id\", \"case_uuid\"]\n",
        "UUIDtobarcodedf=pd.DataFrame(UUIDtobarcodedict.items(), columns=['case_uuid', 'Barcode']) \n",
        "ssm_case_merged=pd.merge(ssm_case_iddf, UUIDtobarcodedf, how=\"inner\", on=['case_uuid']) #converting case UUID to barcode by merging two df\n",
        "ssm_case_merged = ssm_case_merged[['Barcode','ssm_id']]\n",
        "ssm_case_merged.columns = ['Case','ssm_id']\n",
        "\n",
        "\n",
        "####################################\n",
        "patienteventdf=pd.DataFrame(patientdict2.items(), columns=['Case', 'EventCount'])\n",
        "\n",
        "####################################\n",
        "\n",
        "#join mut table vs event table\n",
        "#use pandas merge to join the two dataframes https://pandas.pydata.org/pandas-docs/stable/user_guide/merging.html\n",
        "merged = pd.merge(patienteventdf, ssm_case_merged, how=\"inner\", on=['Case'])\n",
        "#group dataframe by mutation and get average of event counts\n",
        "#https://pandas.pydata.org/docs/reference/api/pandas.core.groupby.GroupBy.mean.html\n",
        "generank=merged.groupby('ssm_id')['EventCount'].mean()\n",
        "\n",
        "with open('TCGAmutvsevent_for_R.csv', 'w') as file:\n",
        "     generank.to_csv(file, sep='\\t')\n",
        "\n",
        "####################################\n",
        "#compare spliceosome vs non-spliceosome\n",
        "#label spliceosome genes in the table\n",
        "#https://stackoverflow.com/questions/17071871/how-do-i-select-rows-from-a-dataframe-based-on-column-values\n",
        "generankdf=pd.read_csv('TCGAmutvsevent_for_R.csv', sep='\\t')\n",
        "\n",
        "\n",
        "\n",
        "ssmdf=pd.read_csv('ssm_case_id.txt', sep='\\t',header=None)\n",
        "mutfreqdf=pd.read_csv('mut_freq.table', sep='\\t',header=None)\n",
        "mutfreqdf = mutfreqdf[[0,2]].drop_duplicates()\n",
        "mutfreqdf.columns = ['ssm_id','gene']\n",
        "\n",
        "merged = pd.merge(mutfreqdf, generankdf, how=\"inner\", on=['ssm_id'])\n",
        "generankdf=merged.groupby('gene')['EventCount'].mean()\n",
        "generankdf=pd.DataFrame({'gene':generankdf.index, 'meaneventcount':generankdf.values}) #convert series to df\n",
        "generankdf_sorted = generankdf.sort_values(by=['meaneventcount'], ascending=False) #sort\n",
        "generankB50=generankdf_sorted.iloc[-50:].loc[:,'gene'] #select bottom 50 genes\n",
        "generankT50=generankdf_sorted.iloc[:50].loc[:,'gene'] #select top 50 genes\n",
        "generankdf_sorted.sample(50) #random selection\n",
        "\n",
        "\n",
        "\n",
        "\n",
        "\n",
        "spliceosomedf=pd.read_csv('spliceosomeprotein.csv', sep=',')\n",
        "spliceosomelist=spliceosomedf['Gene Symbol'].tolist()\n",
        "\n",
        "U2df=pd.read_csv('U2splice.csv', sep=',')\n",
        "U2list=U2df['Gene Symbol'].tolist()\n",
        "U5df=pd.read_csv('U5splice.csv', sep=',')\n",
        "U5list=U5df['Gene Symbol'].tolist()\n",
        "U2U5list=U2list+U5list\n",
        "\n",
        "\n",
        "generanksplice=merged.loc[merged['gene'].isin(spliceosomelist)] #isin list\n",
        "generanknotsplice=merged.loc[~merged['gene'].isin(spliceosomelist)] #is not in list\n",
        "splicearray=generanksplice[\"EventCount\"].values\n",
        "notsplicearray=generanknotsplice[\"EventCount\"].values\n",
        "\n",
        "from scipy.stats import ttest_ind\n",
        "t, p = ttest_ind(splicearray, notsplicearray, equal_var=False)\n",
        "\n",
        "generanksU2U5=merged.loc[merged['gene'].isin(U2U5list)] #isin list\n",
        "generanknotU2U5=merged.loc[~merged['gene'].isin(U2U5list)] #is not in list\n",
        "U2U5array=generanksU2U5['EventCount'].values\n",
        "notU2U5array=generanknotU2U5['EventCount'].values\n",
        "\n",
        "\n",
        "\n"
      ],
      "execution_count": null,
      "outputs": []
    },
    {
      "cell_type": "code",
      "metadata": {
        "id": "TZUY2EnW_wDi"
      },
      "source": [
        "#scatter plot of mut count vs event count\n",
        "srun -c 4 --pty --x11 /bin/bash -i\n",
        "#R\n",
        "module load R\n",
        "R\n",
        "\n",
        "mutgenevsevent <- read.table(\"mutgenesvsevemt_for_R.csv\",header=TRUE,sep='\\t')\n",
        "head(mutgenevsevent)\n",
        "\n",
        "eventcountT500<-head(mutgenevsevent[order(eventcount$Count,decreasing=TRUE),],500) #sorting by Count, top 500 events\n",
        "\n",
        "\n",
        "# Basic histogram http://www.sthda.com/english/wiki/ggplot2-histogram-plot-quick-start-guide-r-software-and-data-visualization\n",
        "ggplot(eventcountnozero, aes(x=Count)) + geom_histogram()\n",
        "# Change the width of bins\n",
        "ggplot(eventcountnozero, aes(x=Count)) + \n",
        "  geom_histogram(binwidth=1)\n",
        "# Change colors\n",
        "p<-ggplot(eventcountnozero, aes(x=Count)) + \n",
        "  geom_histogram(color=\"black\", fill=\"white\")\n",
        "p"
      ],
      "execution_count": null,
      "outputs": []
    },
    {
      "cell_type": "markdown",
      "metadata": {
        "id": "1cUXd9nfDBj8"
      },
      "source": [
        "#Investigate mutations of patients with the RPM10 event"
      ]
    },
    {
      "cell_type": "code",
      "metadata": {
        "id": "bw1myhpiDKjW"
      },
      "source": [
        ""
      ],
      "execution_count": null,
      "outputs": []
    }
  ]
}